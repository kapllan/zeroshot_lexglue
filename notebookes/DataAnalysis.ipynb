{
 "cells": [
  {
   "cell_type": "code",
   "execution_count": 1,
   "id": "3d5e4030",
   "metadata": {},
   "outputs": [
    {
     "name": "stderr",
     "output_type": "stream",
     "text": [
      "/Users/vetonmatoshi/opt/anaconda3/envs/bfh/lib/python3.9/site-packages/tqdm/auto.py:22: TqdmWarning: IProgress not found. Please update jupyter and ipywidgets. See https://ipywidgets.readthedocs.io/en/stable/user_install.html\n",
      "  from .autonotebook import tqdm as notebook_tqdm\n"
     ]
    }
   ],
   "source": [
    "from datasets import load_dataset\n",
    "import pandas as pd"
   ]
  },
  {
   "cell_type": "code",
   "execution_count": 2,
   "id": "2ae09adc",
   "metadata": {},
   "outputs": [],
   "source": [
    "import tiktoken\n",
    "tokenizer = tiktoken.encoding_for_model(\"gpt-3.5-turbo\")"
   ]
  },
  {
   "cell_type": "code",
   "execution_count": 20,
   "id": "55d7defe",
   "metadata": {
    "scrolled": true
   },
   "outputs": [
    {
     "ename": "ValueError",
     "evalue": "Config name is missing.\nPlease pick one among the available configs: ['brazilian_court_decisions_judgment', 'brazilian_court_decisions_unanimity', 'swiss_judgment_prediction', 'german_argument_mining', 'greek_legal_code_volume', 'greek_legal_code_chapter', 'greek_legal_code_subject', 'online_terms_of_service_unfairness_levels', 'turkish_constitutional_court_decisions_judgment', 'swiss_criticality_prediction_bge_facts', 'swiss_criticality_prediction_bge_considerations', 'swiss_criticality_prediction_citation_facts', 'swiss_criticality_prediction_citation_considerations', 'swiss_law_area_prediction_facts', 'swiss_law_area_prediction_considerations', 'swiss_law_area_prediction_sub_area_facts', 'swiss_law_area_prediction_sub_area_considerations', 'swiss_judgment_prediction_xl_facts', 'swiss_judgment_prediction_xl_considerations', 'online_terms_of_service_clause_topics', 'covid19_emergency_event', 'multi_eurlex_level_1', 'multi_eurlex_level_2', 'multi_eurlex_level_3', 'lener_br', 'legalnero', 'greek_legal_ner', 'mapa_coarse', 'mapa_fine']\nExample of usage:\n\t`load_dataset('lextreme', 'brazilian_court_decisions_judgment')`",
     "output_type": "error",
     "traceback": [
      "\u001b[0;31m---------------------------------------------------------------------------\u001b[0m",
      "\u001b[0;31mValueError\u001b[0m                                Traceback (most recent call last)",
      "\u001b[0;32m/var/folders/w1/wqc21nmn2556z5pqs1_g_5000000gn/T/ipykernel_43344/283552357.py\u001b[0m in \u001b[0;36m<module>\u001b[0;34m\u001b[0m\n\u001b[0;32m----> 1\u001b[0;31m \u001b[0mload_dataset\u001b[0m\u001b[0;34m(\u001b[0m\u001b[0;34m'joelito/lextreme'\u001b[0m\u001b[0;34m)\u001b[0m\u001b[0;34m\u001b[0m\u001b[0;34m\u001b[0m\u001b[0m\n\u001b[0m",
      "\u001b[0;32m~/opt/anaconda3/envs/bfh/lib/python3.9/site-packages/datasets/load.py\u001b[0m in \u001b[0;36mload_dataset\u001b[0;34m(path, name, data_dir, data_files, split, cache_dir, features, download_config, download_mode, ignore_verifications, keep_in_memory, save_infos, revision, use_auth_token, task, streaming, num_proc, **config_kwargs)\u001b[0m\n\u001b[1;32m   1716\u001b[0m \u001b[0;34m\u001b[0m\u001b[0m\n\u001b[1;32m   1717\u001b[0m     \u001b[0;31m# Create a dataset builder\u001b[0m\u001b[0;34m\u001b[0m\u001b[0;34m\u001b[0m\u001b[0m\n\u001b[0;32m-> 1718\u001b[0;31m     builder_instance = load_dataset_builder(\n\u001b[0m\u001b[1;32m   1719\u001b[0m         \u001b[0mpath\u001b[0m\u001b[0;34m=\u001b[0m\u001b[0mpath\u001b[0m\u001b[0;34m,\u001b[0m\u001b[0;34m\u001b[0m\u001b[0;34m\u001b[0m\u001b[0m\n\u001b[1;32m   1720\u001b[0m         \u001b[0mname\u001b[0m\u001b[0;34m=\u001b[0m\u001b[0mname\u001b[0m\u001b[0;34m,\u001b[0m\u001b[0;34m\u001b[0m\u001b[0;34m\u001b[0m\u001b[0m\n",
      "\u001b[0;32m~/opt/anaconda3/envs/bfh/lib/python3.9/site-packages/datasets/load.py\u001b[0m in \u001b[0;36mload_dataset_builder\u001b[0;34m(path, name, data_dir, data_files, cache_dir, features, download_config, download_mode, revision, use_auth_token, **config_kwargs)\u001b[0m\n\u001b[1;32m   1512\u001b[0m \u001b[0;34m\u001b[0m\u001b[0m\n\u001b[1;32m   1513\u001b[0m     \u001b[0;31m# Instantiate the dataset builder\u001b[0m\u001b[0;34m\u001b[0m\u001b[0;34m\u001b[0m\u001b[0m\n\u001b[0;32m-> 1514\u001b[0;31m     builder_instance: DatasetBuilder = builder_cls(\n\u001b[0m\u001b[1;32m   1515\u001b[0m         \u001b[0mcache_dir\u001b[0m\u001b[0;34m=\u001b[0m\u001b[0mcache_dir\u001b[0m\u001b[0;34m,\u001b[0m\u001b[0;34m\u001b[0m\u001b[0;34m\u001b[0m\u001b[0m\n\u001b[1;32m   1516\u001b[0m         \u001b[0mconfig_name\u001b[0m\u001b[0;34m=\u001b[0m\u001b[0mconfig_name\u001b[0m\u001b[0;34m,\u001b[0m\u001b[0;34m\u001b[0m\u001b[0;34m\u001b[0m\u001b[0m\n",
      "\u001b[0;32m~/opt/anaconda3/envs/bfh/lib/python3.9/site-packages/datasets/builder.py\u001b[0m in \u001b[0;36m__init__\u001b[0;34m(self, writer_batch_size, *args, **kwargs)\u001b[0m\n\u001b[1;32m   1303\u001b[0m \u001b[0;34m\u001b[0m\u001b[0m\n\u001b[1;32m   1304\u001b[0m     \u001b[0;32mdef\u001b[0m \u001b[0m__init__\u001b[0m\u001b[0;34m(\u001b[0m\u001b[0mself\u001b[0m\u001b[0;34m,\u001b[0m \u001b[0;34m*\u001b[0m\u001b[0margs\u001b[0m\u001b[0;34m,\u001b[0m \u001b[0mwriter_batch_size\u001b[0m\u001b[0;34m=\u001b[0m\u001b[0;32mNone\u001b[0m\u001b[0;34m,\u001b[0m \u001b[0;34m**\u001b[0m\u001b[0mkwargs\u001b[0m\u001b[0;34m)\u001b[0m\u001b[0;34m:\u001b[0m\u001b[0;34m\u001b[0m\u001b[0;34m\u001b[0m\u001b[0m\n\u001b[0;32m-> 1305\u001b[0;31m         \u001b[0msuper\u001b[0m\u001b[0;34m(\u001b[0m\u001b[0;34m)\u001b[0m\u001b[0;34m.\u001b[0m\u001b[0m__init__\u001b[0m\u001b[0;34m(\u001b[0m\u001b[0;34m*\u001b[0m\u001b[0margs\u001b[0m\u001b[0;34m,\u001b[0m \u001b[0;34m**\u001b[0m\u001b[0mkwargs\u001b[0m\u001b[0;34m)\u001b[0m\u001b[0;34m\u001b[0m\u001b[0;34m\u001b[0m\u001b[0m\n\u001b[0m\u001b[1;32m   1306\u001b[0m         \u001b[0;31m# Batch size used by the ArrowWriter\u001b[0m\u001b[0;34m\u001b[0m\u001b[0;34m\u001b[0m\u001b[0m\n\u001b[1;32m   1307\u001b[0m         \u001b[0;31m# It defines the number of samples that are kept in memory before writing them\u001b[0m\u001b[0;34m\u001b[0m\u001b[0;34m\u001b[0m\u001b[0m\n",
      "\u001b[0;32m~/opt/anaconda3/envs/bfh/lib/python3.9/site-packages/datasets/builder.py\u001b[0m in \u001b[0;36m__init__\u001b[0;34m(self, cache_dir, config_name, hash, base_path, info, features, use_auth_token, repo_id, data_files, data_dir, name, **config_kwargs)\u001b[0m\n\u001b[1;32m    309\u001b[0m         \u001b[0;32mif\u001b[0m \u001b[0mdata_dir\u001b[0m \u001b[0;32mis\u001b[0m \u001b[0;32mnot\u001b[0m \u001b[0;32mNone\u001b[0m\u001b[0;34m:\u001b[0m\u001b[0;34m\u001b[0m\u001b[0;34m\u001b[0m\u001b[0m\n\u001b[1;32m    310\u001b[0m             \u001b[0mconfig_kwargs\u001b[0m\u001b[0;34m[\u001b[0m\u001b[0;34m\"data_dir\"\u001b[0m\u001b[0;34m]\u001b[0m \u001b[0;34m=\u001b[0m \u001b[0mdata_dir\u001b[0m\u001b[0;34m\u001b[0m\u001b[0;34m\u001b[0m\u001b[0m\n\u001b[0;32m--> 311\u001b[0;31m         self.config, self.config_id = self._create_builder_config(\n\u001b[0m\u001b[1;32m    312\u001b[0m             \u001b[0mconfig_name\u001b[0m\u001b[0;34m=\u001b[0m\u001b[0mconfig_name\u001b[0m\u001b[0;34m,\u001b[0m\u001b[0;34m\u001b[0m\u001b[0;34m\u001b[0m\u001b[0m\n\u001b[1;32m    313\u001b[0m             \u001b[0mcustom_features\u001b[0m\u001b[0;34m=\u001b[0m\u001b[0mfeatures\u001b[0m\u001b[0;34m,\u001b[0m\u001b[0;34m\u001b[0m\u001b[0;34m\u001b[0m\u001b[0m\n",
      "\u001b[0;32m~/opt/anaconda3/envs/bfh/lib/python3.9/site-packages/datasets/builder.py\u001b[0m in \u001b[0;36m_create_builder_config\u001b[0;34m(self, config_name, custom_features, **config_kwargs)\u001b[0m\n\u001b[1;32m    437\u001b[0m                 \u001b[0;32mif\u001b[0m \u001b[0mlen\u001b[0m\u001b[0;34m(\u001b[0m\u001b[0mself\u001b[0m\u001b[0;34m.\u001b[0m\u001b[0mBUILDER_CONFIGS\u001b[0m\u001b[0;34m)\u001b[0m \u001b[0;34m>\u001b[0m \u001b[0;36m1\u001b[0m\u001b[0;34m:\u001b[0m\u001b[0;34m\u001b[0m\u001b[0;34m\u001b[0m\u001b[0m\n\u001b[1;32m    438\u001b[0m                     \u001b[0mexample_of_usage\u001b[0m \u001b[0;34m=\u001b[0m \u001b[0;34mf\"load_dataset('{self.name}', '{self.BUILDER_CONFIGS[0].name}')\"\u001b[0m\u001b[0;34m\u001b[0m\u001b[0;34m\u001b[0m\u001b[0m\n\u001b[0;32m--> 439\u001b[0;31m                     raise ValueError(\n\u001b[0m\u001b[1;32m    440\u001b[0m                         \u001b[0;34m\"Config name is missing.\"\u001b[0m\u001b[0;34m\u001b[0m\u001b[0;34m\u001b[0m\u001b[0m\n\u001b[1;32m    441\u001b[0m                         \u001b[0;34mf\"\\nPlease pick one among the available configs: {list(self.builder_configs.keys())}\"\u001b[0m\u001b[0;34m\u001b[0m\u001b[0;34m\u001b[0m\u001b[0m\n",
      "\u001b[0;31mValueError\u001b[0m: Config name is missing.\nPlease pick one among the available configs: ['brazilian_court_decisions_judgment', 'brazilian_court_decisions_unanimity', 'swiss_judgment_prediction', 'german_argument_mining', 'greek_legal_code_volume', 'greek_legal_code_chapter', 'greek_legal_code_subject', 'online_terms_of_service_unfairness_levels', 'turkish_constitutional_court_decisions_judgment', 'swiss_criticality_prediction_bge_facts', 'swiss_criticality_prediction_bge_considerations', 'swiss_criticality_prediction_citation_facts', 'swiss_criticality_prediction_citation_considerations', 'swiss_law_area_prediction_facts', 'swiss_law_area_prediction_considerations', 'swiss_law_area_prediction_sub_area_facts', 'swiss_law_area_prediction_sub_area_considerations', 'swiss_judgment_prediction_xl_facts', 'swiss_judgment_prediction_xl_considerations', 'online_terms_of_service_clause_topics', 'covid19_emergency_event', 'multi_eurlex_level_1', 'multi_eurlex_level_2', 'multi_eurlex_level_3', 'lener_br', 'legalnero', 'greek_legal_ner', 'mapa_coarse', 'mapa_fine']\nExample of usage:\n\t`load_dataset('lextreme', 'brazilian_court_decisions_judgment')`"
     ]
    }
   ],
   "source": [
    "load_dataset('joelito/lextreme')"
   ]
  },
  {
   "cell_type": "code",
   "execution_count": 21,
   "id": "43778a0a",
   "metadata": {},
   "outputs": [
    {
     "name": "stdout",
     "output_type": "stream",
     "text": [
      "Downloading and preparing dataset lextreme/covid19_emergency_event to /Users/vetonmatoshi/.cache/huggingface/datasets/joelito___lextreme/covid19_emergency_event/1.0.0/1ff43827e332c8df88094d1f980fbd6d1a4d5fe8733b85cd37e7e3b20290b789...\n"
     ]
    },
    {
     "name": "stderr",
     "output_type": "stream",
     "text": [
      "Generating train split: 0 examples [00:00, ? examples/s]Using custom data configuration joelito--covid19_emergency_event-387876624e46d3d3\n",
      "Found cached dataset json (/Users/vetonmatoshi/.cache/huggingface/datasets/joelito___json/joelito--covid19_emergency_event-387876624e46d3d3/0.0.0/e6070c77f18f01a5ad4551a8b7edfba20b8438b7cad4d94e6ad9378022ce4aab)\n",
      "Generating validation split: 0 examples [00:00, ? examples/s]    Using custom data configuration joelito--covid19_emergency_event-387876624e46d3d3\n",
      "Found cached dataset json (/Users/vetonmatoshi/.cache/huggingface/datasets/joelito___json/joelito--covid19_emergency_event-387876624e46d3d3/0.0.0/e6070c77f18f01a5ad4551a8b7edfba20b8438b7cad4d94e6ad9378022ce4aab)\n",
      "Generating test split: 0 examples [00:00, ? examples/s]          Using custom data configuration joelito--covid19_emergency_event-387876624e46d3d3\n",
      "Found cached dataset json (/Users/vetonmatoshi/.cache/huggingface/datasets/joelito___json/joelito--covid19_emergency_event-387876624e46d3d3/0.0.0/e6070c77f18f01a5ad4551a8b7edfba20b8438b7cad4d94e6ad9378022ce4aab)\n",
      "                                                           \r"
     ]
    },
    {
     "name": "stdout",
     "output_type": "stream",
     "text": [
      "Dataset lextreme downloaded and prepared to /Users/vetonmatoshi/.cache/huggingface/datasets/joelito___lextreme/covid19_emergency_event/1.0.0/1ff43827e332c8df88094d1f980fbd6d1a4d5fe8733b85cd37e7e3b20290b789. Subsequent calls will reuse this data.\n"
     ]
    },
    {
     "name": "stderr",
     "output_type": "stream",
     "text": [
      "100%|█████████████████████████████████████████████████████████| 3/3 [00:00<00:00, 1029.28it/s]\n"
     ]
    },
    {
     "data": {
      "text/plain": [
       "DatasetDict({\n",
       "    train: Dataset({\n",
       "        features: ['input', 'label', 'language'],\n",
       "        num_rows: 3312\n",
       "    })\n",
       "    validation: Dataset({\n",
       "        features: ['input', 'label', 'language'],\n",
       "        num_rows: 418\n",
       "    })\n",
       "    test: Dataset({\n",
       "        features: ['input', 'label', 'language'],\n",
       "        num_rows: 418\n",
       "    })\n",
       "})"
      ]
     },
     "execution_count": 21,
     "metadata": {},
     "output_type": "execute_result"
    }
   ],
   "source": [
    "dataset = load_dataset('joelito/lextreme', 'covid19_emergency_event')\n",
    "dataset"
   ]
  },
  {
   "cell_type": "code",
   "execution_count": 22,
   "id": "dfd189c4",
   "metadata": {},
   "outputs": [
    {
     "data": {
      "text/plain": [
       "['event1',\n",
       " 'event2',\n",
       " 'event3',\n",
       " 'event4',\n",
       " 'event5',\n",
       " 'event6',\n",
       " 'event7',\n",
       " 'event8']"
      ]
     },
     "execution_count": 22,
     "metadata": {},
     "output_type": "execute_result"
    }
   ],
   "source": [
    "dataset['train'].features['label'].feature.names"
   ]
  },
  {
   "cell_type": "code",
   "execution_count": null,
   "id": "c9c55ee2",
   "metadata": {},
   "outputs": [],
   "source": []
  },
  {
   "cell_type": "markdown",
   "id": "93d97a25",
   "metadata": {},
   "source": [
    "# Count labels per config"
   ]
  },
  {
   "cell_type": "code",
   "execution_count": 64,
   "id": "81507130",
   "metadata": {},
   "outputs": [
    {
     "name": "stderr",
     "output_type": "stream",
     "text": [
      "Found cached dataset lextreme (/Users/vetonmatoshi/.cache/huggingface/datasets/joelito___lextreme/swiss_criticality_prediction_bge_considerations/1.0.0/1ff43827e332c8df88094d1f980fbd6d1a4d5fe8733b85cd37e7e3b20290b789)\n",
      "100%|█████████████████████████████████████████████████████████| 3/3 [00:00<00:00, 56.45it/s]\n"
     ]
    },
    {
     "name": "stdout",
     "output_type": "stream",
     "text": [
      "swiss_criticality_prediction_bge_considerations :  2\n"
     ]
    },
    {
     "name": "stderr",
     "output_type": "stream",
     "text": [
      "Found cached dataset lextreme (/Users/vetonmatoshi/.cache/huggingface/datasets/joelito___lextreme/swiss_criticality_prediction_bge_facts/1.0.0/1ff43827e332c8df88094d1f980fbd6d1a4d5fe8733b85cd37e7e3b20290b789)\n",
      "100%|█████████████████████████████████████████████████████████| 3/3 [00:00<00:00, 83.93it/s]\n"
     ]
    },
    {
     "name": "stdout",
     "output_type": "stream",
     "text": [
      "swiss_criticality_prediction_bge_facts :  2\n"
     ]
    },
    {
     "name": "stderr",
     "output_type": "stream",
     "text": [
      "Found cached dataset lextreme (/Users/vetonmatoshi/.cache/huggingface/datasets/joelito___lextreme/swiss_criticality_prediction_citation_considerations/1.0.0/1ff43827e332c8df88094d1f980fbd6d1a4d5fe8733b85cd37e7e3b20290b789)\n",
      "100%|████████████████████████████████████████████████████████| 3/3 [00:00<00:00, 445.03it/s]\n"
     ]
    },
    {
     "name": "stdout",
     "output_type": "stream",
     "text": [
      "swiss_criticality_prediction_citation_considerations :  4\n"
     ]
    },
    {
     "name": "stderr",
     "output_type": "stream",
     "text": [
      "Found cached dataset lextreme (/Users/vetonmatoshi/.cache/huggingface/datasets/joelito___lextreme/swiss_criticality_prediction_citation_facts/1.0.0/1ff43827e332c8df88094d1f980fbd6d1a4d5fe8733b85cd37e7e3b20290b789)\n",
      "100%|████████████████████████████████████████████████████████| 3/3 [00:00<00:00, 854.70it/s]"
     ]
    },
    {
     "name": "stdout",
     "output_type": "stream",
     "text": [
      "swiss_criticality_prediction_citation_facts :  4\n"
     ]
    },
    {
     "name": "stderr",
     "output_type": "stream",
     "text": [
      "\n"
     ]
    },
    {
     "ename": "KeyboardInterrupt",
     "evalue": "",
     "output_type": "error",
     "traceback": [
      "\u001b[0;31m---------------------------------------------------------------------------\u001b[0m",
      "\u001b[0;31mKeyboardInterrupt\u001b[0m                         Traceback (most recent call last)",
      "\u001b[0;32m/var/folders/w1/wqc21nmn2556z5pqs1_g_5000000gn/T/ipykernel_43344/247990574.py\u001b[0m in \u001b[0;36m<module>\u001b[0;34m\u001b[0m\n\u001b[1;32m     13\u001b[0m \u001b[0;34m\u001b[0m\u001b[0m\n\u001b[1;32m     14\u001b[0m \u001b[0;32mfor\u001b[0m \u001b[0mt\u001b[0m \u001b[0;32min\u001b[0m \u001b[0mall_tasks\u001b[0m\u001b[0;34m:\u001b[0m\u001b[0;34m\u001b[0m\u001b[0;34m\u001b[0m\u001b[0m\n\u001b[0;32m---> 15\u001b[0;31m     \u001b[0mdataset\u001b[0m \u001b[0;34m=\u001b[0m \u001b[0mload_dataset\u001b[0m\u001b[0;34m(\u001b[0m\u001b[0;34m\"joelito/lextreme\"\u001b[0m\u001b[0;34m,\u001b[0m \u001b[0mt\u001b[0m\u001b[0;34m)\u001b[0m\u001b[0;34m\u001b[0m\u001b[0;34m\u001b[0m\u001b[0m\n\u001b[0m\u001b[1;32m     16\u001b[0m     \u001b[0mlabels\u001b[0m \u001b[0;34m=\u001b[0m \u001b[0mset\u001b[0m\u001b[0;34m(\u001b[0m\u001b[0;34m)\u001b[0m\u001b[0;34m\u001b[0m\u001b[0;34m\u001b[0m\u001b[0m\n\u001b[1;32m     17\u001b[0m     \u001b[0;32mfor\u001b[0m \u001b[0msplit\u001b[0m \u001b[0;32min\u001b[0m \u001b[0;34m[\u001b[0m\u001b[0;34m'train'\u001b[0m\u001b[0;34m,\u001b[0m\u001b[0;34m'validation'\u001b[0m\u001b[0;34m,\u001b[0m \u001b[0;34m'test'\u001b[0m\u001b[0;34m]\u001b[0m\u001b[0;34m:\u001b[0m\u001b[0;34m\u001b[0m\u001b[0;34m\u001b[0m\u001b[0m\n",
      "\u001b[0;32m~/opt/anaconda3/envs/bfh/lib/python3.9/site-packages/datasets/load.py\u001b[0m in \u001b[0;36mload_dataset\u001b[0;34m(path, name, data_dir, data_files, split, cache_dir, features, download_config, download_mode, ignore_verifications, keep_in_memory, save_infos, revision, use_auth_token, task, streaming, num_proc, **config_kwargs)\u001b[0m\n\u001b[1;32m   1716\u001b[0m \u001b[0;34m\u001b[0m\u001b[0m\n\u001b[1;32m   1717\u001b[0m     \u001b[0;31m# Create a dataset builder\u001b[0m\u001b[0;34m\u001b[0m\u001b[0;34m\u001b[0m\u001b[0m\n\u001b[0;32m-> 1718\u001b[0;31m     builder_instance = load_dataset_builder(\n\u001b[0m\u001b[1;32m   1719\u001b[0m         \u001b[0mpath\u001b[0m\u001b[0;34m=\u001b[0m\u001b[0mpath\u001b[0m\u001b[0;34m,\u001b[0m\u001b[0;34m\u001b[0m\u001b[0;34m\u001b[0m\u001b[0m\n\u001b[1;32m   1720\u001b[0m         \u001b[0mname\u001b[0m\u001b[0;34m=\u001b[0m\u001b[0mname\u001b[0m\u001b[0;34m,\u001b[0m\u001b[0;34m\u001b[0m\u001b[0;34m\u001b[0m\u001b[0m\n",
      "\u001b[0;32m~/opt/anaconda3/envs/bfh/lib/python3.9/site-packages/datasets/load.py\u001b[0m in \u001b[0;36mload_dataset_builder\u001b[0;34m(path, name, data_dir, data_files, cache_dir, features, download_config, download_mode, revision, use_auth_token, **config_kwargs)\u001b[0m\n\u001b[1;32m   1486\u001b[0m         \u001b[0mdownload_config\u001b[0m \u001b[0;34m=\u001b[0m \u001b[0mdownload_config\u001b[0m\u001b[0;34m.\u001b[0m\u001b[0mcopy\u001b[0m\u001b[0;34m(\u001b[0m\u001b[0;34m)\u001b[0m \u001b[0;32mif\u001b[0m \u001b[0mdownload_config\u001b[0m \u001b[0;32melse\u001b[0m \u001b[0mDownloadConfig\u001b[0m\u001b[0;34m(\u001b[0m\u001b[0;34m)\u001b[0m\u001b[0;34m\u001b[0m\u001b[0;34m\u001b[0m\u001b[0m\n\u001b[1;32m   1487\u001b[0m         \u001b[0mdownload_config\u001b[0m\u001b[0;34m.\u001b[0m\u001b[0muse_auth_token\u001b[0m \u001b[0;34m=\u001b[0m \u001b[0muse_auth_token\u001b[0m\u001b[0;34m\u001b[0m\u001b[0;34m\u001b[0m\u001b[0m\n\u001b[0;32m-> 1488\u001b[0;31m     dataset_module = dataset_module_factory(\n\u001b[0m\u001b[1;32m   1489\u001b[0m         \u001b[0mpath\u001b[0m\u001b[0;34m,\u001b[0m\u001b[0;34m\u001b[0m\u001b[0;34m\u001b[0m\u001b[0m\n\u001b[1;32m   1490\u001b[0m         \u001b[0mrevision\u001b[0m\u001b[0;34m=\u001b[0m\u001b[0mrevision\u001b[0m\u001b[0;34m,\u001b[0m\u001b[0;34m\u001b[0m\u001b[0;34m\u001b[0m\u001b[0m\n",
      "\u001b[0;32m~/opt/anaconda3/envs/bfh/lib/python3.9/site-packages/datasets/load.py\u001b[0m in \u001b[0;36mdataset_module_factory\u001b[0;34m(path, revision, download_config, download_mode, dynamic_modules_path, data_dir, data_files, **download_kwargs)\u001b[0m\n\u001b[1;32m   1155\u001b[0m             \u001b[0mhf_api\u001b[0m \u001b[0;34m=\u001b[0m \u001b[0mHfApi\u001b[0m\u001b[0;34m(\u001b[0m\u001b[0mconfig\u001b[0m\u001b[0;34m.\u001b[0m\u001b[0mHF_ENDPOINT\u001b[0m\u001b[0;34m)\u001b[0m\u001b[0;34m\u001b[0m\u001b[0;34m\u001b[0m\u001b[0m\n\u001b[1;32m   1156\u001b[0m             \u001b[0;32mtry\u001b[0m\u001b[0;34m:\u001b[0m\u001b[0;34m\u001b[0m\u001b[0;34m\u001b[0m\u001b[0m\n\u001b[0;32m-> 1157\u001b[0;31m                 dataset_info = hf_api_dataset_info(\n\u001b[0m\u001b[1;32m   1158\u001b[0m                     \u001b[0mhf_api\u001b[0m\u001b[0;34m,\u001b[0m\u001b[0;34m\u001b[0m\u001b[0;34m\u001b[0m\u001b[0m\n\u001b[1;32m   1159\u001b[0m                     \u001b[0mrepo_id\u001b[0m\u001b[0;34m=\u001b[0m\u001b[0mpath\u001b[0m\u001b[0;34m,\u001b[0m\u001b[0;34m\u001b[0m\u001b[0;34m\u001b[0m\u001b[0m\n",
      "\u001b[0;32m~/opt/anaconda3/envs/bfh/lib/python3.9/site-packages/datasets/utils/_hf_hub_fixes.py\u001b[0m in \u001b[0;36mdataset_info\u001b[0;34m(hf_api, repo_id, revision, timeout, use_auth_token)\u001b[0m\n\u001b[1;32m    150\u001b[0m         )\n\u001b[1;32m    151\u001b[0m     \u001b[0;32melse\u001b[0m\u001b[0;34m:\u001b[0m  \u001b[0;31m# the `token` parameter is deprecated in huggingface_hub>=0.10.0\u001b[0m\u001b[0;34m\u001b[0m\u001b[0;34m\u001b[0m\u001b[0m\n\u001b[0;32m--> 152\u001b[0;31m         \u001b[0;32mreturn\u001b[0m \u001b[0mhf_api\u001b[0m\u001b[0;34m.\u001b[0m\u001b[0mdataset_info\u001b[0m\u001b[0;34m(\u001b[0m\u001b[0mrepo_id\u001b[0m\u001b[0;34m,\u001b[0m \u001b[0mrevision\u001b[0m\u001b[0;34m=\u001b[0m\u001b[0mrevision\u001b[0m\u001b[0;34m,\u001b[0m \u001b[0mtimeout\u001b[0m\u001b[0;34m=\u001b[0m\u001b[0mtimeout\u001b[0m\u001b[0;34m,\u001b[0m \u001b[0muse_auth_token\u001b[0m\u001b[0;34m=\u001b[0m\u001b[0muse_auth_token\u001b[0m\u001b[0;34m)\u001b[0m\u001b[0;34m\u001b[0m\u001b[0;34m\u001b[0m\u001b[0m\n\u001b[0m\u001b[1;32m    153\u001b[0m \u001b[0;34m\u001b[0m\u001b[0m\n\u001b[1;32m    154\u001b[0m \u001b[0;34m\u001b[0m\u001b[0m\n",
      "\u001b[0;32m~/opt/anaconda3/envs/bfh/lib/python3.9/site-packages/huggingface_hub/utils/_validators.py\u001b[0m in \u001b[0;36m_inner_fn\u001b[0;34m(*args, **kwargs)\u001b[0m\n\u001b[1;32m    122\u001b[0m             )\n\u001b[1;32m    123\u001b[0m \u001b[0;34m\u001b[0m\u001b[0m\n\u001b[0;32m--> 124\u001b[0;31m         \u001b[0;32mreturn\u001b[0m \u001b[0mfn\u001b[0m\u001b[0;34m(\u001b[0m\u001b[0;34m*\u001b[0m\u001b[0margs\u001b[0m\u001b[0;34m,\u001b[0m \u001b[0;34m**\u001b[0m\u001b[0mkwargs\u001b[0m\u001b[0;34m)\u001b[0m\u001b[0;34m\u001b[0m\u001b[0;34m\u001b[0m\u001b[0m\n\u001b[0m\u001b[1;32m    125\u001b[0m \u001b[0;34m\u001b[0m\u001b[0m\n\u001b[1;32m    126\u001b[0m     \u001b[0;32mreturn\u001b[0m \u001b[0m_inner_fn\u001b[0m  \u001b[0;31m# type: ignore\u001b[0m\u001b[0;34m\u001b[0m\u001b[0;34m\u001b[0m\u001b[0m\n",
      "\u001b[0;32m~/opt/anaconda3/envs/bfh/lib/python3.9/site-packages/huggingface_hub/hf_api.py\u001b[0m in \u001b[0;36mdataset_info\u001b[0;34m(self, repo_id, revision, timeout, files_metadata, token)\u001b[0m\n\u001b[1;32m   1296\u001b[0m             \u001b[0mparams\u001b[0m\u001b[0;34m[\u001b[0m\u001b[0;34m\"blobs\"\u001b[0m\u001b[0;34m]\u001b[0m \u001b[0;34m=\u001b[0m \u001b[0;32mTrue\u001b[0m\u001b[0;34m\u001b[0m\u001b[0;34m\u001b[0m\u001b[0m\n\u001b[1;32m   1297\u001b[0m \u001b[0;34m\u001b[0m\u001b[0m\n\u001b[0;32m-> 1298\u001b[0;31m         \u001b[0mr\u001b[0m \u001b[0;34m=\u001b[0m \u001b[0mrequests\u001b[0m\u001b[0;34m.\u001b[0m\u001b[0mget\u001b[0m\u001b[0;34m(\u001b[0m\u001b[0mpath\u001b[0m\u001b[0;34m,\u001b[0m \u001b[0mheaders\u001b[0m\u001b[0;34m=\u001b[0m\u001b[0mheaders\u001b[0m\u001b[0;34m,\u001b[0m \u001b[0mtimeout\u001b[0m\u001b[0;34m=\u001b[0m\u001b[0mtimeout\u001b[0m\u001b[0;34m,\u001b[0m \u001b[0mparams\u001b[0m\u001b[0;34m=\u001b[0m\u001b[0mparams\u001b[0m\u001b[0;34m)\u001b[0m\u001b[0;34m\u001b[0m\u001b[0;34m\u001b[0m\u001b[0m\n\u001b[0m\u001b[1;32m   1299\u001b[0m         \u001b[0mhf_raise_for_status\u001b[0m\u001b[0;34m(\u001b[0m\u001b[0mr\u001b[0m\u001b[0;34m)\u001b[0m\u001b[0;34m\u001b[0m\u001b[0;34m\u001b[0m\u001b[0m\n\u001b[1;32m   1300\u001b[0m         \u001b[0md\u001b[0m \u001b[0;34m=\u001b[0m \u001b[0mr\u001b[0m\u001b[0;34m.\u001b[0m\u001b[0mjson\u001b[0m\u001b[0;34m(\u001b[0m\u001b[0;34m)\u001b[0m\u001b[0;34m\u001b[0m\u001b[0;34m\u001b[0m\u001b[0m\n",
      "\u001b[0;32m~/opt/anaconda3/envs/bfh/lib/python3.9/site-packages/requests/api.py\u001b[0m in \u001b[0;36mget\u001b[0;34m(url, params, **kwargs)\u001b[0m\n\u001b[1;32m     71\u001b[0m     \"\"\"\n\u001b[1;32m     72\u001b[0m \u001b[0;34m\u001b[0m\u001b[0m\n\u001b[0;32m---> 73\u001b[0;31m     \u001b[0;32mreturn\u001b[0m \u001b[0mrequest\u001b[0m\u001b[0;34m(\u001b[0m\u001b[0;34m\"get\"\u001b[0m\u001b[0;34m,\u001b[0m \u001b[0murl\u001b[0m\u001b[0;34m,\u001b[0m \u001b[0mparams\u001b[0m\u001b[0;34m=\u001b[0m\u001b[0mparams\u001b[0m\u001b[0;34m,\u001b[0m \u001b[0;34m**\u001b[0m\u001b[0mkwargs\u001b[0m\u001b[0;34m)\u001b[0m\u001b[0;34m\u001b[0m\u001b[0;34m\u001b[0m\u001b[0m\n\u001b[0m\u001b[1;32m     74\u001b[0m \u001b[0;34m\u001b[0m\u001b[0m\n\u001b[1;32m     75\u001b[0m \u001b[0;34m\u001b[0m\u001b[0m\n",
      "\u001b[0;32m~/opt/anaconda3/envs/bfh/lib/python3.9/site-packages/requests/api.py\u001b[0m in \u001b[0;36mrequest\u001b[0;34m(method, url, **kwargs)\u001b[0m\n\u001b[1;32m     57\u001b[0m     \u001b[0;31m# cases, and look like a memory leak in others.\u001b[0m\u001b[0;34m\u001b[0m\u001b[0;34m\u001b[0m\u001b[0m\n\u001b[1;32m     58\u001b[0m     \u001b[0;32mwith\u001b[0m \u001b[0msessions\u001b[0m\u001b[0;34m.\u001b[0m\u001b[0mSession\u001b[0m\u001b[0;34m(\u001b[0m\u001b[0;34m)\u001b[0m \u001b[0;32mas\u001b[0m \u001b[0msession\u001b[0m\u001b[0;34m:\u001b[0m\u001b[0;34m\u001b[0m\u001b[0;34m\u001b[0m\u001b[0m\n\u001b[0;32m---> 59\u001b[0;31m         \u001b[0;32mreturn\u001b[0m \u001b[0msession\u001b[0m\u001b[0;34m.\u001b[0m\u001b[0mrequest\u001b[0m\u001b[0;34m(\u001b[0m\u001b[0mmethod\u001b[0m\u001b[0;34m=\u001b[0m\u001b[0mmethod\u001b[0m\u001b[0;34m,\u001b[0m \u001b[0murl\u001b[0m\u001b[0;34m=\u001b[0m\u001b[0murl\u001b[0m\u001b[0;34m,\u001b[0m \u001b[0;34m**\u001b[0m\u001b[0mkwargs\u001b[0m\u001b[0;34m)\u001b[0m\u001b[0;34m\u001b[0m\u001b[0;34m\u001b[0m\u001b[0m\n\u001b[0m\u001b[1;32m     60\u001b[0m \u001b[0;34m\u001b[0m\u001b[0m\n\u001b[1;32m     61\u001b[0m \u001b[0;34m\u001b[0m\u001b[0m\n",
      "\u001b[0;32m~/opt/anaconda3/envs/bfh/lib/python3.9/site-packages/requests/sessions.py\u001b[0m in \u001b[0;36mrequest\u001b[0;34m(self, method, url, params, data, headers, cookies, files, auth, timeout, allow_redirects, proxies, hooks, stream, verify, cert, json)\u001b[0m\n\u001b[1;32m    585\u001b[0m         }\n\u001b[1;32m    586\u001b[0m         \u001b[0msend_kwargs\u001b[0m\u001b[0;34m.\u001b[0m\u001b[0mupdate\u001b[0m\u001b[0;34m(\u001b[0m\u001b[0msettings\u001b[0m\u001b[0;34m)\u001b[0m\u001b[0;34m\u001b[0m\u001b[0;34m\u001b[0m\u001b[0m\n\u001b[0;32m--> 587\u001b[0;31m         \u001b[0mresp\u001b[0m \u001b[0;34m=\u001b[0m \u001b[0mself\u001b[0m\u001b[0;34m.\u001b[0m\u001b[0msend\u001b[0m\u001b[0;34m(\u001b[0m\u001b[0mprep\u001b[0m\u001b[0;34m,\u001b[0m \u001b[0;34m**\u001b[0m\u001b[0msend_kwargs\u001b[0m\u001b[0;34m)\u001b[0m\u001b[0;34m\u001b[0m\u001b[0;34m\u001b[0m\u001b[0m\n\u001b[0m\u001b[1;32m    588\u001b[0m \u001b[0;34m\u001b[0m\u001b[0m\n\u001b[1;32m    589\u001b[0m         \u001b[0;32mreturn\u001b[0m \u001b[0mresp\u001b[0m\u001b[0;34m\u001b[0m\u001b[0;34m\u001b[0m\u001b[0m\n",
      "\u001b[0;32m~/opt/anaconda3/envs/bfh/lib/python3.9/site-packages/requests/sessions.py\u001b[0m in \u001b[0;36msend\u001b[0;34m(self, request, **kwargs)\u001b[0m\n\u001b[1;32m    699\u001b[0m \u001b[0;34m\u001b[0m\u001b[0m\n\u001b[1;32m    700\u001b[0m         \u001b[0;31m# Send the request\u001b[0m\u001b[0;34m\u001b[0m\u001b[0;34m\u001b[0m\u001b[0m\n\u001b[0;32m--> 701\u001b[0;31m         \u001b[0mr\u001b[0m \u001b[0;34m=\u001b[0m \u001b[0madapter\u001b[0m\u001b[0;34m.\u001b[0m\u001b[0msend\u001b[0m\u001b[0;34m(\u001b[0m\u001b[0mrequest\u001b[0m\u001b[0;34m,\u001b[0m \u001b[0;34m**\u001b[0m\u001b[0mkwargs\u001b[0m\u001b[0;34m)\u001b[0m\u001b[0;34m\u001b[0m\u001b[0;34m\u001b[0m\u001b[0m\n\u001b[0m\u001b[1;32m    702\u001b[0m \u001b[0;34m\u001b[0m\u001b[0m\n\u001b[1;32m    703\u001b[0m         \u001b[0;31m# Total elapsed time of the request (approximately)\u001b[0m\u001b[0;34m\u001b[0m\u001b[0;34m\u001b[0m\u001b[0m\n",
      "\u001b[0;32m~/opt/anaconda3/envs/bfh/lib/python3.9/site-packages/requests/adapters.py\u001b[0m in \u001b[0;36msend\u001b[0;34m(self, request, stream, timeout, verify, cert, proxies)\u001b[0m\n\u001b[1;32m    487\u001b[0m         \u001b[0;32mtry\u001b[0m\u001b[0;34m:\u001b[0m\u001b[0;34m\u001b[0m\u001b[0;34m\u001b[0m\u001b[0m\n\u001b[1;32m    488\u001b[0m             \u001b[0;32mif\u001b[0m \u001b[0;32mnot\u001b[0m \u001b[0mchunked\u001b[0m\u001b[0;34m:\u001b[0m\u001b[0;34m\u001b[0m\u001b[0;34m\u001b[0m\u001b[0m\n\u001b[0;32m--> 489\u001b[0;31m                 resp = conn.urlopen(\n\u001b[0m\u001b[1;32m    490\u001b[0m                     \u001b[0mmethod\u001b[0m\u001b[0;34m=\u001b[0m\u001b[0mrequest\u001b[0m\u001b[0;34m.\u001b[0m\u001b[0mmethod\u001b[0m\u001b[0;34m,\u001b[0m\u001b[0;34m\u001b[0m\u001b[0;34m\u001b[0m\u001b[0m\n\u001b[1;32m    491\u001b[0m                     \u001b[0murl\u001b[0m\u001b[0;34m=\u001b[0m\u001b[0murl\u001b[0m\u001b[0;34m,\u001b[0m\u001b[0;34m\u001b[0m\u001b[0;34m\u001b[0m\u001b[0m\n",
      "\u001b[0;32m~/opt/anaconda3/envs/bfh/lib/python3.9/site-packages/urllib3/connectionpool.py\u001b[0m in \u001b[0;36murlopen\u001b[0;34m(self, method, url, body, headers, retries, redirect, assert_same_host, timeout, pool_timeout, release_conn, chunked, body_pos, **response_kw)\u001b[0m\n\u001b[1;32m    701\u001b[0m \u001b[0;34m\u001b[0m\u001b[0m\n\u001b[1;32m    702\u001b[0m             \u001b[0;31m# Make the request on the httplib connection object.\u001b[0m\u001b[0;34m\u001b[0m\u001b[0;34m\u001b[0m\u001b[0m\n\u001b[0;32m--> 703\u001b[0;31m             httplib_response = self._make_request(\n\u001b[0m\u001b[1;32m    704\u001b[0m                 \u001b[0mconn\u001b[0m\u001b[0;34m,\u001b[0m\u001b[0;34m\u001b[0m\u001b[0;34m\u001b[0m\u001b[0m\n\u001b[1;32m    705\u001b[0m                 \u001b[0mmethod\u001b[0m\u001b[0;34m,\u001b[0m\u001b[0;34m\u001b[0m\u001b[0;34m\u001b[0m\u001b[0m\n",
      "\u001b[0;32m~/opt/anaconda3/envs/bfh/lib/python3.9/site-packages/urllib3/connectionpool.py\u001b[0m in \u001b[0;36m_make_request\u001b[0;34m(self, conn, method, url, timeout, chunked, **httplib_request_kw)\u001b[0m\n\u001b[1;32m    447\u001b[0m                     \u001b[0;31m# Python 3 (including for exceptions like SystemExit).\u001b[0m\u001b[0;34m\u001b[0m\u001b[0;34m\u001b[0m\u001b[0m\n\u001b[1;32m    448\u001b[0m                     \u001b[0;31m# Otherwise it looks like a bug in the code.\u001b[0m\u001b[0;34m\u001b[0m\u001b[0;34m\u001b[0m\u001b[0m\n\u001b[0;32m--> 449\u001b[0;31m                     \u001b[0msix\u001b[0m\u001b[0;34m.\u001b[0m\u001b[0mraise_from\u001b[0m\u001b[0;34m(\u001b[0m\u001b[0me\u001b[0m\u001b[0;34m,\u001b[0m \u001b[0;32mNone\u001b[0m\u001b[0;34m)\u001b[0m\u001b[0;34m\u001b[0m\u001b[0;34m\u001b[0m\u001b[0m\n\u001b[0m\u001b[1;32m    450\u001b[0m         \u001b[0;32mexcept\u001b[0m \u001b[0;34m(\u001b[0m\u001b[0mSocketTimeout\u001b[0m\u001b[0;34m,\u001b[0m \u001b[0mBaseSSLError\u001b[0m\u001b[0;34m,\u001b[0m \u001b[0mSocketError\u001b[0m\u001b[0;34m)\u001b[0m \u001b[0;32mas\u001b[0m \u001b[0me\u001b[0m\u001b[0;34m:\u001b[0m\u001b[0;34m\u001b[0m\u001b[0;34m\u001b[0m\u001b[0m\n\u001b[1;32m    451\u001b[0m             \u001b[0mself\u001b[0m\u001b[0;34m.\u001b[0m\u001b[0m_raise_timeout\u001b[0m\u001b[0;34m(\u001b[0m\u001b[0merr\u001b[0m\u001b[0;34m=\u001b[0m\u001b[0me\u001b[0m\u001b[0;34m,\u001b[0m \u001b[0murl\u001b[0m\u001b[0;34m=\u001b[0m\u001b[0murl\u001b[0m\u001b[0;34m,\u001b[0m \u001b[0mtimeout_value\u001b[0m\u001b[0;34m=\u001b[0m\u001b[0mread_timeout\u001b[0m\u001b[0;34m)\u001b[0m\u001b[0;34m\u001b[0m\u001b[0;34m\u001b[0m\u001b[0m\n",
      "\u001b[0;32m~/opt/anaconda3/envs/bfh/lib/python3.9/site-packages/urllib3/packages/six.py\u001b[0m in \u001b[0;36mraise_from\u001b[0;34m(value, from_value)\u001b[0m\n",
      "\u001b[0;32m~/opt/anaconda3/envs/bfh/lib/python3.9/site-packages/urllib3/connectionpool.py\u001b[0m in \u001b[0;36m_make_request\u001b[0;34m(self, conn, method, url, timeout, chunked, **httplib_request_kw)\u001b[0m\n\u001b[1;32m    442\u001b[0m                 \u001b[0;31m# Python 3\u001b[0m\u001b[0;34m\u001b[0m\u001b[0;34m\u001b[0m\u001b[0m\n\u001b[1;32m    443\u001b[0m                 \u001b[0;32mtry\u001b[0m\u001b[0;34m:\u001b[0m\u001b[0;34m\u001b[0m\u001b[0;34m\u001b[0m\u001b[0m\n\u001b[0;32m--> 444\u001b[0;31m                     \u001b[0mhttplib_response\u001b[0m \u001b[0;34m=\u001b[0m \u001b[0mconn\u001b[0m\u001b[0;34m.\u001b[0m\u001b[0mgetresponse\u001b[0m\u001b[0;34m(\u001b[0m\u001b[0;34m)\u001b[0m\u001b[0;34m\u001b[0m\u001b[0;34m\u001b[0m\u001b[0m\n\u001b[0m\u001b[1;32m    445\u001b[0m                 \u001b[0;32mexcept\u001b[0m \u001b[0mBaseException\u001b[0m \u001b[0;32mas\u001b[0m \u001b[0me\u001b[0m\u001b[0;34m:\u001b[0m\u001b[0;34m\u001b[0m\u001b[0;34m\u001b[0m\u001b[0m\n\u001b[1;32m    446\u001b[0m                     \u001b[0;31m# Remove the TypeError from the exception chain in\u001b[0m\u001b[0;34m\u001b[0m\u001b[0;34m\u001b[0m\u001b[0m\n",
      "\u001b[0;32m~/opt/anaconda3/envs/bfh/lib/python3.9/http/client.py\u001b[0m in \u001b[0;36mgetresponse\u001b[0;34m(self)\u001b[0m\n\u001b[1;32m   1375\u001b[0m         \u001b[0;32mtry\u001b[0m\u001b[0;34m:\u001b[0m\u001b[0;34m\u001b[0m\u001b[0;34m\u001b[0m\u001b[0m\n\u001b[1;32m   1376\u001b[0m             \u001b[0;32mtry\u001b[0m\u001b[0;34m:\u001b[0m\u001b[0;34m\u001b[0m\u001b[0;34m\u001b[0m\u001b[0m\n\u001b[0;32m-> 1377\u001b[0;31m                 \u001b[0mresponse\u001b[0m\u001b[0;34m.\u001b[0m\u001b[0mbegin\u001b[0m\u001b[0;34m(\u001b[0m\u001b[0;34m)\u001b[0m\u001b[0;34m\u001b[0m\u001b[0;34m\u001b[0m\u001b[0m\n\u001b[0m\u001b[1;32m   1378\u001b[0m             \u001b[0;32mexcept\u001b[0m \u001b[0mConnectionError\u001b[0m\u001b[0;34m:\u001b[0m\u001b[0;34m\u001b[0m\u001b[0;34m\u001b[0m\u001b[0m\n\u001b[1;32m   1379\u001b[0m                 \u001b[0mself\u001b[0m\u001b[0;34m.\u001b[0m\u001b[0mclose\u001b[0m\u001b[0;34m(\u001b[0m\u001b[0;34m)\u001b[0m\u001b[0;34m\u001b[0m\u001b[0;34m\u001b[0m\u001b[0m\n",
      "\u001b[0;32m~/opt/anaconda3/envs/bfh/lib/python3.9/http/client.py\u001b[0m in \u001b[0;36mbegin\u001b[0;34m(self)\u001b[0m\n\u001b[1;32m    318\u001b[0m         \u001b[0;31m# read until we get a non-100 response\u001b[0m\u001b[0;34m\u001b[0m\u001b[0;34m\u001b[0m\u001b[0m\n\u001b[1;32m    319\u001b[0m         \u001b[0;32mwhile\u001b[0m \u001b[0;32mTrue\u001b[0m\u001b[0;34m:\u001b[0m\u001b[0;34m\u001b[0m\u001b[0;34m\u001b[0m\u001b[0m\n\u001b[0;32m--> 320\u001b[0;31m             \u001b[0mversion\u001b[0m\u001b[0;34m,\u001b[0m \u001b[0mstatus\u001b[0m\u001b[0;34m,\u001b[0m \u001b[0mreason\u001b[0m \u001b[0;34m=\u001b[0m \u001b[0mself\u001b[0m\u001b[0;34m.\u001b[0m\u001b[0m_read_status\u001b[0m\u001b[0;34m(\u001b[0m\u001b[0;34m)\u001b[0m\u001b[0;34m\u001b[0m\u001b[0;34m\u001b[0m\u001b[0m\n\u001b[0m\u001b[1;32m    321\u001b[0m             \u001b[0;32mif\u001b[0m \u001b[0mstatus\u001b[0m \u001b[0;34m!=\u001b[0m \u001b[0mCONTINUE\u001b[0m\u001b[0;34m:\u001b[0m\u001b[0;34m\u001b[0m\u001b[0;34m\u001b[0m\u001b[0m\n\u001b[1;32m    322\u001b[0m                 \u001b[0;32mbreak\u001b[0m\u001b[0;34m\u001b[0m\u001b[0;34m\u001b[0m\u001b[0m\n",
      "\u001b[0;32m~/opt/anaconda3/envs/bfh/lib/python3.9/http/client.py\u001b[0m in \u001b[0;36m_read_status\u001b[0;34m(self)\u001b[0m\n\u001b[1;32m    279\u001b[0m \u001b[0;34m\u001b[0m\u001b[0m\n\u001b[1;32m    280\u001b[0m     \u001b[0;32mdef\u001b[0m \u001b[0m_read_status\u001b[0m\u001b[0;34m(\u001b[0m\u001b[0mself\u001b[0m\u001b[0;34m)\u001b[0m\u001b[0;34m:\u001b[0m\u001b[0;34m\u001b[0m\u001b[0;34m\u001b[0m\u001b[0m\n\u001b[0;32m--> 281\u001b[0;31m         \u001b[0mline\u001b[0m \u001b[0;34m=\u001b[0m \u001b[0mstr\u001b[0m\u001b[0;34m(\u001b[0m\u001b[0mself\u001b[0m\u001b[0;34m.\u001b[0m\u001b[0mfp\u001b[0m\u001b[0;34m.\u001b[0m\u001b[0mreadline\u001b[0m\u001b[0;34m(\u001b[0m\u001b[0m_MAXLINE\u001b[0m \u001b[0;34m+\u001b[0m \u001b[0;36m1\u001b[0m\u001b[0;34m)\u001b[0m\u001b[0;34m,\u001b[0m \u001b[0;34m\"iso-8859-1\"\u001b[0m\u001b[0;34m)\u001b[0m\u001b[0;34m\u001b[0m\u001b[0;34m\u001b[0m\u001b[0m\n\u001b[0m\u001b[1;32m    282\u001b[0m         \u001b[0;32mif\u001b[0m \u001b[0mlen\u001b[0m\u001b[0;34m(\u001b[0m\u001b[0mline\u001b[0m\u001b[0;34m)\u001b[0m \u001b[0;34m>\u001b[0m \u001b[0m_MAXLINE\u001b[0m\u001b[0;34m:\u001b[0m\u001b[0;34m\u001b[0m\u001b[0;34m\u001b[0m\u001b[0m\n\u001b[1;32m    283\u001b[0m             \u001b[0;32mraise\u001b[0m \u001b[0mLineTooLong\u001b[0m\u001b[0;34m(\u001b[0m\u001b[0;34m\"status line\"\u001b[0m\u001b[0;34m)\u001b[0m\u001b[0;34m\u001b[0m\u001b[0;34m\u001b[0m\u001b[0m\n",
      "\u001b[0;32m~/opt/anaconda3/envs/bfh/lib/python3.9/socket.py\u001b[0m in \u001b[0;36mreadinto\u001b[0;34m(self, b)\u001b[0m\n\u001b[1;32m    702\u001b[0m         \u001b[0;32mwhile\u001b[0m \u001b[0;32mTrue\u001b[0m\u001b[0;34m:\u001b[0m\u001b[0;34m\u001b[0m\u001b[0;34m\u001b[0m\u001b[0m\n\u001b[1;32m    703\u001b[0m             \u001b[0;32mtry\u001b[0m\u001b[0;34m:\u001b[0m\u001b[0;34m\u001b[0m\u001b[0;34m\u001b[0m\u001b[0m\n\u001b[0;32m--> 704\u001b[0;31m                 \u001b[0;32mreturn\u001b[0m \u001b[0mself\u001b[0m\u001b[0;34m.\u001b[0m\u001b[0m_sock\u001b[0m\u001b[0;34m.\u001b[0m\u001b[0mrecv_into\u001b[0m\u001b[0;34m(\u001b[0m\u001b[0mb\u001b[0m\u001b[0;34m)\u001b[0m\u001b[0;34m\u001b[0m\u001b[0;34m\u001b[0m\u001b[0m\n\u001b[0m\u001b[1;32m    705\u001b[0m             \u001b[0;32mexcept\u001b[0m \u001b[0mtimeout\u001b[0m\u001b[0;34m:\u001b[0m\u001b[0;34m\u001b[0m\u001b[0;34m\u001b[0m\u001b[0m\n\u001b[1;32m    706\u001b[0m                 \u001b[0mself\u001b[0m\u001b[0;34m.\u001b[0m\u001b[0m_timeout_occurred\u001b[0m \u001b[0;34m=\u001b[0m \u001b[0;32mTrue\u001b[0m\u001b[0;34m\u001b[0m\u001b[0;34m\u001b[0m\u001b[0m\n",
      "\u001b[0;32m~/opt/anaconda3/envs/bfh/lib/python3.9/ssl.py\u001b[0m in \u001b[0;36mrecv_into\u001b[0;34m(self, buffer, nbytes, flags)\u001b[0m\n\u001b[1;32m   1240\u001b[0m                   \u001b[0;34m\"non-zero flags not allowed in calls to recv_into() on %s\"\u001b[0m \u001b[0;34m%\u001b[0m\u001b[0;34m\u001b[0m\u001b[0;34m\u001b[0m\u001b[0m\n\u001b[1;32m   1241\u001b[0m                   self.__class__)\n\u001b[0;32m-> 1242\u001b[0;31m             \u001b[0;32mreturn\u001b[0m \u001b[0mself\u001b[0m\u001b[0;34m.\u001b[0m\u001b[0mread\u001b[0m\u001b[0;34m(\u001b[0m\u001b[0mnbytes\u001b[0m\u001b[0;34m,\u001b[0m \u001b[0mbuffer\u001b[0m\u001b[0;34m)\u001b[0m\u001b[0;34m\u001b[0m\u001b[0;34m\u001b[0m\u001b[0m\n\u001b[0m\u001b[1;32m   1243\u001b[0m         \u001b[0;32melse\u001b[0m\u001b[0;34m:\u001b[0m\u001b[0;34m\u001b[0m\u001b[0;34m\u001b[0m\u001b[0m\n\u001b[1;32m   1244\u001b[0m             \u001b[0;32mreturn\u001b[0m \u001b[0msuper\u001b[0m\u001b[0;34m(\u001b[0m\u001b[0;34m)\u001b[0m\u001b[0;34m.\u001b[0m\u001b[0mrecv_into\u001b[0m\u001b[0;34m(\u001b[0m\u001b[0mbuffer\u001b[0m\u001b[0;34m,\u001b[0m \u001b[0mnbytes\u001b[0m\u001b[0;34m,\u001b[0m \u001b[0mflags\u001b[0m\u001b[0;34m)\u001b[0m\u001b[0;34m\u001b[0m\u001b[0;34m\u001b[0m\u001b[0m\n",
      "\u001b[0;32m~/opt/anaconda3/envs/bfh/lib/python3.9/ssl.py\u001b[0m in \u001b[0;36mread\u001b[0;34m(self, len, buffer)\u001b[0m\n\u001b[1;32m   1098\u001b[0m         \u001b[0;32mtry\u001b[0m\u001b[0;34m:\u001b[0m\u001b[0;34m\u001b[0m\u001b[0;34m\u001b[0m\u001b[0m\n\u001b[1;32m   1099\u001b[0m             \u001b[0;32mif\u001b[0m \u001b[0mbuffer\u001b[0m \u001b[0;32mis\u001b[0m \u001b[0;32mnot\u001b[0m \u001b[0;32mNone\u001b[0m\u001b[0;34m:\u001b[0m\u001b[0;34m\u001b[0m\u001b[0;34m\u001b[0m\u001b[0m\n\u001b[0;32m-> 1100\u001b[0;31m                 \u001b[0;32mreturn\u001b[0m \u001b[0mself\u001b[0m\u001b[0;34m.\u001b[0m\u001b[0m_sslobj\u001b[0m\u001b[0;34m.\u001b[0m\u001b[0mread\u001b[0m\u001b[0;34m(\u001b[0m\u001b[0mlen\u001b[0m\u001b[0;34m,\u001b[0m \u001b[0mbuffer\u001b[0m\u001b[0;34m)\u001b[0m\u001b[0;34m\u001b[0m\u001b[0;34m\u001b[0m\u001b[0m\n\u001b[0m\u001b[1;32m   1101\u001b[0m             \u001b[0;32melse\u001b[0m\u001b[0;34m:\u001b[0m\u001b[0;34m\u001b[0m\u001b[0;34m\u001b[0m\u001b[0m\n\u001b[1;32m   1102\u001b[0m                 \u001b[0;32mreturn\u001b[0m \u001b[0mself\u001b[0m\u001b[0;34m.\u001b[0m\u001b[0m_sslobj\u001b[0m\u001b[0;34m.\u001b[0m\u001b[0mread\u001b[0m\u001b[0;34m(\u001b[0m\u001b[0mlen\u001b[0m\u001b[0;34m)\u001b[0m\u001b[0;34m\u001b[0m\u001b[0;34m\u001b[0m\u001b[0m\n",
      "\u001b[0;31mKeyboardInterrupt\u001b[0m: "
     ]
    }
   ],
   "source": [
    "all_tasks = [\n",
    "    \"swiss_criticality_prediction_bge_considerations\",\n",
    "    \"swiss_criticality_prediction_bge_facts\",\n",
    "    \"swiss_criticality_prediction_citation_considerations\",\n",
    "    \"swiss_criticality_prediction_citation_facts\",\n",
    "    \"swiss_judgment_prediction_xl_considerations\",\n",
    "    \"swiss_judgment_prediction_xl_facts\",\n",
    "    \"swiss_law_area_prediction_facts\",\n",
    "    \"swiss_law_area_prediction_considerations\",\n",
    "    \"swiss_law_area_prediction_sub_area_considerations\",\n",
    "    \"swiss_law_area_prediction_sub_area_facts\"\n",
    "  ]\n",
    "\n",
    "for t in all_tasks:\n",
    "    dataset = load_dataset(\"joelito/lextreme\", t)\n",
    "    labels = set()\n",
    "    for split in ['train','validation', 'test']:\n",
    "        for l in dataset[split].features['label'].names:\n",
    "            labels.add(l)\n",
    "    print(t,': ',len(labels))\n",
    "    \n",
    "    "
   ]
  },
  {
   "cell_type": "markdown",
   "id": "29d87a9e",
   "metadata": {},
   "source": [
    "# Check if any input exceeds 4096"
   ]
  },
  {
   "cell_type": "code",
   "execution_count": 69,
   "id": "b294c686",
   "metadata": {},
   "outputs": [
    {
     "name": "stdout",
     "output_type": "stream",
     "text": [
      "7183\n",
      "7168\n"
     ]
    }
   ],
   "source": [
    "all_data = []\n",
    "for task in all_tasks:\n",
    "    df = pd.read_json(\"../data/instruction-following-examples/\"+task+\".jsonl\", lines=True)\n",
    "    df['finetuning_task']=task\n",
    "    all_data.append(df)\n",
    "all_data = pd.concat(all_data)\n",
    "all_data['length']=all_data.input_text.apply(lambda x: len(tokenizer.encode(x)))\n",
    "all_data[all_data.length>4000]\n",
    "print(len(all_data))\n",
    "print(len(all_data.input_text.unique()))"
   ]
  },
  {
   "cell_type": "code",
   "execution_count": 66,
   "id": "e6a7a2ea",
   "metadata": {},
   "outputs": [
    {
     "data": {
      "text/plain": [
       "<AxesSubplot: >"
      ]
     },
     "execution_count": 66,
     "metadata": {},
     "output_type": "execute_result"
    },
    {
     "data": {
      "image/png": "[encoded data removed]",
      "text/plain": [
       "<Figure size 640x480 with 1 Axes>"
      ]
     },
     "metadata": {},
     "output_type": "display_data"
    }
   ],
   "source": [
    "all_data.length.hist()"
   ]
  },
  {
   "cell_type": "code",
   "execution_count": 67,
   "id": "e1f14271",
   "metadata": {},
   "outputs": [
    {
     "data": {
      "text/plain": [
       "<AxesSubplot: xlabel='finetuning_task,language'>"
      ]
     },
     "execution_count": 67,
     "metadata": {},
     "output_type": "execute_result"
    },
    {
     "data": {
      "image/png": "[encoded data removed]",
      "text/plain": [
       "<Figure size 640x480 with 1 Axes>"
      ]
     },
     "metadata": {},
     "output_type": "display_data"
    }
   ],
   "source": [
    "all_data[['input_text','finetuning_task','language']].groupby(['finetuning_task','language']).count().plot.bar()"
   ]
  },
  {
   "cell_type": "raw",
   "id": "5c68a52c",
   "metadata": {},
   "source": [
    "def check_label(task):\n",
    "    dataset = load_dataset('joelito/lextreme', task)['validation']\n",
    "    "
   ]
  },
  {
   "cell_type": "code",
   "execution_count": 83,
   "id": "00ed9823",
   "metadata": {},
   "outputs": [
    {
     "name": "stderr",
     "output_type": "stream",
     "text": [
      "Found cached dataset lextreme (/Users/vetonmatoshi/.cache/huggingface/datasets/joelito___lextreme/swiss_judgment_prediction_xl_facts/1.0.0/1ff43827e332c8df88094d1f980fbd6d1a4d5fe8733b85cd37e7e3b20290b789)\n"
     ]
    },
    {
     "name": "stdout",
     "output_type": "stream",
     "text": [
      "['dismissal', 'approval']\n"
     ]
    },
    {
     "data": {
      "text/plain": [
       "\"sub_df = all_data[all_data.finetuning_task==task]\\nsub_df['label_to_check']=sub_df.input.apply(lambda _input:return_label(dataset,_input))\""
      ]
     },
     "execution_count": 83,
     "metadata": {},
     "output_type": "execute_result"
    }
   ],
   "source": [
    "task = 'swiss_judgment_prediction_xl_facts'\n",
    "dataset = load_dataset('joelito/lextreme', task, split=\"validation\")\n",
    "labels = dataset.features['label'].names\n",
    "print(labels)\n",
    "\n",
    "def return_label(dataset, _input):\n",
    "    results =  dataset.filter(lambda x: _input in x['input'])['label']\n",
    "    results = [labels[r] for r in results]\n",
    "    return results\n",
    "\n",
    "'''sub_df = all_data[all_data.finetuning_task==task]\n",
    "sub_df['label_to_check']=sub_df.input.apply(lambda _input:return_label(dataset,_input))'''\n"
   ]
  },
  {
   "cell_type": "code",
   "execution_count": 85,
   "id": "892c7587",
   "metadata": {},
   "outputs": [
    {
     "name": "stderr",
     "output_type": "stream",
     "text": [
      "100%|█████████████████████████████████████████████████████████| 38/38 [00:00<00:00, 71.99ba/s]\n"
     ]
    },
    {
     "data": {
      "text/plain": [
       "['approval']"
      ]
     },
     "execution_count": 85,
     "metadata": {},
     "output_type": "execute_result"
    }
   ],
   "source": [
    "search = \"ngelegenheiten ans Bundesgericht vom 17. August 2016 beantragen die genannten Personen, das Urteil des Verwaltungsgerichts sei aufzuheben. Die Quartierplanvorschriften und der Verteilschlüssel seien insofern anzupassen, als die Gemeinde Bever zu verpflichten sei, A. und B. C._ Fr. 13'000.--, D. F._ Fr. 41'000.\"\n",
    "return_label(dataset, search)"
   ]
  },
  {
   "cell_type": "code",
   "execution_count": null,
   "id": "c7dc2309",
   "metadata": {
    "scrolled": true
   },
   "outputs": [],
   "source": [
    "print(all_data[all_data.finetuning_task=='swiss_criticality_prediction_citation_facts'].input_text.tolist()[0])"
   ]
  },
  {
   "cell_type": "markdown",
   "id": "b8206309",
   "metadata": {},
   "source": [
    "# Predictions"
   ]
  },
  {
   "cell_type": "code",
   "execution_count": 53,
   "id": "5062fd26",
   "metadata": {},
   "outputs": [
    {
     "data": {
      "text/html": [
       "<div>\n",
       "<style scoped>\n",
       "    .dataframe tbody tr th:only-of-type {\n",
       "        vertical-align: middle;\n",
       "    }\n",
       "\n",
       "    .dataframe tbody tr th {\n",
       "        vertical-align: top;\n",
       "    }\n",
       "\n",
       "    .dataframe thead th {\n",
       "        text-align: right;\n",
       "    }\n",
       "</style>\n",
       "<table border=\"1\" class=\"dataframe\">\n",
       "  <thead>\n",
       "    <tr style=\"text-align: right;\">\n",
       "      <th></th>\n",
       "      <th>input_text</th>\n",
       "      <th>language</th>\n",
       "      <th>answer</th>\n",
       "      <th>prediction</th>\n",
       "      <th>finetuning_task</th>\n",
       "      <th>length</th>\n",
       "    </tr>\n",
       "  </thead>\n",
       "  <tbody>\n",
       "    <tr>\n",
       "      <th>0</th>\n",
       "      <td>Given the considerations from the following Sw...</td>\n",
       "      <td>fr</td>\n",
       "      <td>non-critical</td>\n",
       "      <td>critical</td>\n",
       "      <td>swiss_criticality_prediction_bge_considerations</td>\n",
       "      <td>3726</td>\n",
       "    </tr>\n",
       "    <tr>\n",
       "      <th>1</th>\n",
       "      <td>Given the considerations from the following Sw...</td>\n",
       "      <td>fr</td>\n",
       "      <td>non-critical</td>\n",
       "      <td>None</td>\n",
       "      <td>swiss_criticality_prediction_bge_considerations</td>\n",
       "      <td>2290</td>\n",
       "    </tr>\n",
       "    <tr>\n",
       "      <th>2</th>\n",
       "      <td>Given the considerations from the following Sw...</td>\n",
       "      <td>de</td>\n",
       "      <td>non-critical</td>\n",
       "      <td>critical</td>\n",
       "      <td>swiss_criticality_prediction_bge_considerations</td>\n",
       "      <td>1068</td>\n",
       "    </tr>\n",
       "    <tr>\n",
       "      <th>3</th>\n",
       "      <td>Given the considerations from the following Sw...</td>\n",
       "      <td>de</td>\n",
       "      <td>non-critical</td>\n",
       "      <td>non-critical</td>\n",
       "      <td>swiss_criticality_prediction_bge_considerations</td>\n",
       "      <td>985</td>\n",
       "    </tr>\n",
       "    <tr>\n",
       "      <th>4</th>\n",
       "      <td>Given the considerations from the following Sw...</td>\n",
       "      <td>fr</td>\n",
       "      <td>non-critical</td>\n",
       "      <td>non-critical</td>\n",
       "      <td>swiss_criticality_prediction_bge_considerations</td>\n",
       "      <td>1792</td>\n",
       "    </tr>\n",
       "    <tr>\n",
       "      <th>...</th>\n",
       "      <td>...</td>\n",
       "      <td>...</td>\n",
       "      <td>...</td>\n",
       "      <td>...</td>\n",
       "      <td>...</td>\n",
       "      <td>...</td>\n",
       "    </tr>\n",
       "    <tr>\n",
       "      <th>906</th>\n",
       "      <td>Given the facts from the following court decis...</td>\n",
       "      <td>it</td>\n",
       "      <td>Public Administration</td>\n",
       "      <td>Tax</td>\n",
       "      <td>swiss_law_area_prediction_sub_area_facts</td>\n",
       "      <td>1017</td>\n",
       "    </tr>\n",
       "    <tr>\n",
       "      <th>907</th>\n",
       "      <td>Given the facts from the following court decis...</td>\n",
       "      <td>de</td>\n",
       "      <td>Rental and Lease</td>\n",
       "      <td>Urban Planning and Environmental.</td>\n",
       "      <td>swiss_law_area_prediction_sub_area_facts</td>\n",
       "      <td>1230</td>\n",
       "    </tr>\n",
       "    <tr>\n",
       "      <th>908</th>\n",
       "      <td>Given the facts from the following court decis...</td>\n",
       "      <td>de</td>\n",
       "      <td>Public Administration</td>\n",
       "      <td>Tax.</td>\n",
       "      <td>swiss_law_area_prediction_sub_area_facts</td>\n",
       "      <td>671</td>\n",
       "    </tr>\n",
       "    <tr>\n",
       "      <th>909</th>\n",
       "      <td>Given the facts from the following court decis...</td>\n",
       "      <td>it</td>\n",
       "      <td>Intellectual Property</td>\n",
       "      <td>Substantive Criminal</td>\n",
       "      <td>swiss_law_area_prediction_sub_area_facts</td>\n",
       "      <td>2415</td>\n",
       "    </tr>\n",
       "    <tr>\n",
       "      <th>910</th>\n",
       "      <td>Given the facts from the following court decis...</td>\n",
       "      <td>fr</td>\n",
       "      <td>Intellectual Property</td>\n",
       "      <td>Substantive Criminal.</td>\n",
       "      <td>swiss_law_area_prediction_sub_area_facts</td>\n",
       "      <td>1517</td>\n",
       "    </tr>\n",
       "  </tbody>\n",
       "</table>\n",
       "<p>7183 rows × 6 columns</p>\n",
       "</div>"
      ],
      "text/plain": [
       "                                            input_text language  \\\n",
       "0    Given the considerations from the following Sw...       fr   \n",
       "1    Given the considerations from the following Sw...       fr   \n",
       "2    Given the considerations from the following Sw...       de   \n",
       "3    Given the considerations from the following Sw...       de   \n",
       "4    Given the considerations from the following Sw...       fr   \n",
       "..                                                 ...      ...   \n",
       "906  Given the facts from the following court decis...       it   \n",
       "907  Given the facts from the following court decis...       de   \n",
       "908  Given the facts from the following court decis...       de   \n",
       "909  Given the facts from the following court decis...       it   \n",
       "910  Given the facts from the following court decis...       fr   \n",
       "\n",
       "                    answer                         prediction  \\\n",
       "0             non-critical                           critical   \n",
       "1             non-critical                               None   \n",
       "2             non-critical                           critical   \n",
       "3             non-critical                       non-critical   \n",
       "4             non-critical                       non-critical   \n",
       "..                     ...                                ...   \n",
       "906  Public Administration                                Tax   \n",
       "907       Rental and Lease  Urban Planning and Environmental.   \n",
       "908  Public Administration                               Tax.   \n",
       "909  Intellectual Property               Substantive Criminal   \n",
       "910  Intellectual Property              Substantive Criminal.   \n",
       "\n",
       "                                     finetuning_task  length  \n",
       "0    swiss_criticality_prediction_bge_considerations    3726  \n",
       "1    swiss_criticality_prediction_bge_considerations    2290  \n",
       "2    swiss_criticality_prediction_bge_considerations    1068  \n",
       "3    swiss_criticality_prediction_bge_considerations     985  \n",
       "4    swiss_criticality_prediction_bge_considerations    1792  \n",
       "..                                               ...     ...  \n",
       "906         swiss_law_area_prediction_sub_area_facts    1017  \n",
       "907         swiss_law_area_prediction_sub_area_facts    1230  \n",
       "908         swiss_law_area_prediction_sub_area_facts     671  \n",
       "909         swiss_law_area_prediction_sub_area_facts    2415  \n",
       "910         swiss_law_area_prediction_sub_area_facts    1517  \n",
       "\n",
       "[7183 rows x 6 columns]"
      ]
     },
     "execution_count": 53,
     "metadata": {},
     "output_type": "execute_result"
    }
   ],
   "source": [
    "all_data = []\n",
    "for task in all_tasks:\n",
    "    df = pd.read_json(\"../data/zero-shot-predictions/\"+task+\"_gpt-3.5-turbo_predictions.jsonl\", lines=True)\n",
    "    df['finetuning_task']=task\n",
    "    all_data.append(df)\n",
    "all_data = pd.concat(all_data)\n",
    "all_data['length']=all_data.input_text.apply(lambda x: len(tokenizer.encode(x)))\n",
    "all_data"
   ]
  },
  {
   "cell_type": "code",
   "execution_count": 63,
   "id": "603806ce",
   "metadata": {
    "scrolled": true
   },
   "outputs": [
    {
     "name": "stdout",
     "output_type": "stream",
     "text": [
      "Given the facts from the following court decision:\n",
      "\"considérant en fait\n",
      "A. A._ exerçait les fonctions de président du comité et de directeur technique et artistique de l’Association C._ (ci-après: l’Association) dont le but était d’organiser des festivals de jazz en ville de D._, à l’instar de E._ qui se tenait chaque année sur la Place F._. Au cours de l’assemblée générale du 6 mars 2014, il a été remplacé à la présidence du comité de l’Association par G._ mais a conservé sa fonction de directeur technique et artistique au bénéfice d’un contrat de travail. H._ était porte-parole de l’Association.\n",
      "Le projet était d’organiser une édition de E._ du 3 au 12 juillet 2014 sur l’ancien site de l’entreprise I._ à J._, la ville de D._ n’ayant pas autorisé la poursuite de cette manifestation sur son site « historique » de la Place F._.\n",
      "Le 3 juillet 2014, le comité de l’Association a licencié A._ et l’a relevé de sa fonction avec effet immédiat. Le même jour, le Préfet de la Sarine a suspendu son autorisation de tenir la manifestation, le site n’étant pas en mesure d’accueillir le public, notamment pour des motifs de sécurité. Toujours le 3 juillet 2014, le comité de crise constitué sous l’égide de G._ a décidé d’annuler l’édition 2014.\n",
      "La défense des intérêts de l’Association a été confiée à B._, avocate.\n",
      "Par décision du 25 août 2014, le Président du Tribunal civil de la Sarine a prononcé la faillite de l’Association.\n",
      "B. Le 1er octobre 2014, A._ a déposé plainte pénale contre G._, H._, B._, K._ et L._ pour diffamation et calomnie.\n",
      "En ce qui concerne plus précisément B._, A._ lui reproche d’avoir rédigé un communiqué de presse sous le titre « M._: la vérité doit être dite » en date du 15 juillet 2014 adressé à l’ensemble des médias de Suisse occidentale par l’intermédiaire de L._, chargé de communication. Le communiqué de presse contenait de très nombreuses affirmations fallacieuses et visait à lui faire endosser publiquement la responsabilité d’un fiasco exclusivement imputable à l’incompétence, la négligence et l’amateurisme du président de l’association et de son comité. En particulier, il contenait l’accusation infondée et gravement attentatoire à l’honneur suivante: « A._ n’a pas du tout respecté ses engagements envers l’Association, n’hésitant pas notamment à encaisser d’importants montants au nom de l’Association et à les conserver indûment pour lui-même.». Il expose que l’édition du 16 juillet 2014 du quotidien fribourgeois La Liberté a révélé que dans son communiqué, l’Association se réservait d’agir par toutes les voies juridiques, notamment pénales, B._ y proférant au surplus ces accusations sans même avoir analysé préalablement la comptabilité de l’association (« Une comptabilité existe, je vais l’analyser »). Le même jour, l’ATS a consacré un article de presse relevant que l’Association estimait qu’il portait toute la responsabilité de l’annulation de l’édition 2014 du festival, l’accusait de divers manquements, notamment au niveau financier, et se réservait d’agir par toutes les voies juridiques à sa disposition. Les accusations fallacieuses de B._ ont été rapportées dans l’édition des Freiburger Nachrichten du 16 juillet 2014: « A._ sei seinen Pflichten jedoch nicht nachgekommen und habe das Geld, das er im Namen des Vereins einkassiert habe, unrechtmässig für sich behalten. Der Vorstand behalte sich deshalb juristische Schritte vor ».\n",
      "Tribunal cantonal TC Page 3 de 10\n",
      "C. Par ordonnance du 23 février 2017, le Ministère public n’est pas entré en matière sur la plainte pénale déposée par A._ contre B._.\n",
      "Par ordonnance pénale du même jour, le Ministère public a reconnu A._ coupable de tentatives de contrainte, de menaces et de délit contre la loi fédérale sur l’assurance-vieillesse et survivants.\n",
      "Les procédures pénales ouvertes à l’encontre de A._ pour utilisation abusive d’une installation de télécommunication, abus de confiance, escroquerie, contravention à la loi fédérale sur les étrangers, délit contre la loi fédérale sur l’assurance-vieillesse et survivants et pour menace suite au dépôt de plaintes pénales par G._, N._ Ltd. et O._ ainsi que P._ ont été classées, à l’instar de la procédure pénale ouverte à l’encontre de G._ pour diffamation et calomnie, contravention à la loi fédérale sur les étrangers et délits contre la loi fédérale sur l’assurance-vieillesse et survivants et des procédures ouvertes à l’encontre de K._ et de L._ pour diffamation et calomnie suite au dépôt de plaintes pénales par le recourant.\n",
      "Le Ministère public a également rendu deux ordonnances de non-entrée en matière sur la plainte pénale déposée par Q._ à l’encontre de A._ pour injures et de ce dernier à l’encontre de H._ pour diffamation et calomnie.\n",
      "D. Le 6 mars 2017, A._ a contesté les ordonnances de classement rendues en faveur de G._ et de L._, et les ordonnances de non-entrée en matière prononcées en faveur de H._ et B._.\n",
      "S’agissant de la procédure contre B._, invité à déposer ses observations, le Ministère public s’est déterminé par courrier du 21 mars 2017, concluant au rejet du recours et à ce que B._ soit également invitée à produire ses observations. Il expose que la plainte de A._ s’inscrit dans le cadre d’un vaste litige consécutif à l’annulation de l’édition 2014 de E._ et que ce sont dix plaintes ou dénonciations différentes qui ont été déposées par différentes parties en relation avec cet événement. Ainsi, il explique avoir traité les litiges des plaintes et contre-plaintes en premier en tentant à plusieurs reprises la conciliation entre les parties avant de constater son impossibilité. C’est dès lors par économie de procédure et bon sens qu’il n’a pas traité la plainte concernant B._ seule mais en lien avec les autres plaintes déposées par le plaignant, et constaté que le prononcé d’une ordonnance de non-entrée en matière s’imposait, aucune mesure d’instruction n’étant indispensable pour se convaincre de l’absence d’infraction. Il soutient en effet en substance que la mandataire de l’Association pouvait, de bonne foi, partir de l’idée que les faits reprochés à A._ étaient vrais, compte tenu des éléments de preuve dont elle disposait; en particulier, ses déclarations selon lesquelles il n’avait encaissé aucun argent des stands, se sont avérées être des mensonges et étaient de nature à avoir des soupçons fondés à son encontre. Il relève par ailleurs que le comportement irascible, intransigeant et menaçant du recourant envers les membres du comité, pour lequel il a été condamné, doit être pris en considération dans l’appréciation de la réaction des membres dudit comité.\n",
      "B._ a déposé ses observations le 3 avril 2017 en concluant au rejet du recours sous suite de frais et dépens. Substantiellement, elle invoque avoir rédigé le passage litigieux du communiqué de presse sur la base du contrat de travail du plaignant, des notes de séances du comité de l’Association et des quittances remises par R._, représentant de certains commerçants, qui lui avait expliqué que de nombreux tenanciers avaient remis de l’argent de main\n",
      "Tribunal cantonal TC Page 4 de 10\n",
      "à main à A._. Elle précise que la phrase contestée selon laquelle elle aurait déclaré qu’une comptabilité existait et qu’elle allait l’analyser doit être mise en relation avec le dépôt de bilan, la situation financière de l’Association et l’avenir de celle-ci, et non avec les montants encaissés par le plaignant.\n",
      "Le 11 avril 2017, A._ a fait parvenir sa détermination spontanée sur les observations du Ministère public et de B._.\"\n",
      "\n",
      "Which topic/law area is relevant out of the following options:\n",
      "-  Civil\n",
      "-  Criminal\n",
      "-  Public\n",
      "-  Social\n",
      "The relevant option is:\n"
     ]
    }
   ],
   "source": [
    "print(all_data.input_text.tolist()[4001])"
   ]
  },
  {
   "cell_type": "code",
   "execution_count": 58,
   "id": "6198da42",
   "metadata": {},
   "outputs": [],
   "source": [
    "text ='Le recours en matière pénale (art. 78 al. 1 LTF) est ouvert contre une décision relative à la détention provisoire ou pour des motifs de sûreté au sens des art. 212 ss CPP. Formé en temps utile (art. 100 al. 1 LTF) contre une décision prise en dernière instance cantonale (art. 80 LTF) et qui touche le recourant dans ses intérêts juridiquement protégés (art. 81 al. 1 let. a et b ch. 1 LTF), le recours en matière pénale est recevable.'"
   ]
  },
  {
   "cell_type": "code",
   "execution_count": 61,
   "id": "f27b66d4",
   "metadata": {},
   "outputs": [
    {
     "name": "stderr",
     "output_type": "stream",
     "text": [
      "Found cached dataset lextreme (/Users/vetonmatoshi/.cache/huggingface/datasets/joelito___lextreme/swiss_criticality_prediction_bge_considerations/1.0.0/1ff43827e332c8df88094d1f980fbd6d1a4d5fe8733b85cd37e7e3b20290b789)\n",
      "100%|█████████████████████████████████████████████████████████| 3/3 [00:00<00:00, 55.05it/s]\n",
      "Loading cached processed dataset at /Users/vetonmatoshi/.cache/huggingface/datasets/joelito___lextreme/swiss_criticality_prediction_bge_considerations/1.0.0/1ff43827e332c8df88094d1f980fbd6d1a4d5fe8733b85cd37e7e3b20290b789/cache-2a8f6ead34f26710.arrow\n"
     ]
    },
    {
     "data": {
      "text/plain": [
       "[1]"
      ]
     },
     "execution_count": 61,
     "metadata": {},
     "output_type": "execute_result"
    }
   ],
   "source": [
    "ds = load_dataset('joelito/lextreme', 'swiss_criticality_prediction_bge_considerations')['validation']\n",
    "ds.filter(lambda x:text in x['input'])['label']"
   ]
  },
  {
   "cell_type": "code",
   "execution_count": 48,
   "id": "5435df67",
   "metadata": {},
   "outputs": [],
   "source": [
    "from sklearn.metrics import classification_report\n",
    "y_true = [0, 1, 2, 2, 2]\n",
    "y_pred = [0, 0, 2, 2, 1]\n",
    "target_names = ['class 0', 'class 1', 'class 2']\n",
    "report = classification_report(y_true, y_pred, target_names=target_names,output_dict=True)\n"
   ]
  },
  {
   "cell_type": "code",
   "execution_count": 51,
   "id": "5e5c1e41",
   "metadata": {},
   "outputs": [
    {
     "data": {
      "text/html": [
       "<div>\n",
       "<style scoped>\n",
       "    .dataframe tbody tr th:only-of-type {\n",
       "        vertical-align: middle;\n",
       "    }\n",
       "\n",
       "    .dataframe tbody tr th {\n",
       "        vertical-align: top;\n",
       "    }\n",
       "\n",
       "    .dataframe thead th {\n",
       "        text-align: right;\n",
       "    }\n",
       "</style>\n",
       "<table border=\"1\" class=\"dataframe\">\n",
       "  <thead>\n",
       "    <tr style=\"text-align: right;\">\n",
       "      <th></th>\n",
       "      <th>class 0</th>\n",
       "      <th>class 1</th>\n",
       "      <th>class 2</th>\n",
       "      <th>accuracy</th>\n",
       "      <th>macro avg</th>\n",
       "      <th>weighted avg</th>\n",
       "    </tr>\n",
       "  </thead>\n",
       "  <tbody>\n",
       "    <tr>\n",
       "      <th>precision</th>\n",
       "      <td>0.500000</td>\n",
       "      <td>0.0</td>\n",
       "      <td>1.000000</td>\n",
       "      <td>0.6</td>\n",
       "      <td>0.500000</td>\n",
       "      <td>0.700000</td>\n",
       "    </tr>\n",
       "    <tr>\n",
       "      <th>recall</th>\n",
       "      <td>1.000000</td>\n",
       "      <td>0.0</td>\n",
       "      <td>0.666667</td>\n",
       "      <td>0.6</td>\n",
       "      <td>0.555556</td>\n",
       "      <td>0.600000</td>\n",
       "    </tr>\n",
       "    <tr>\n",
       "      <th>f1-score</th>\n",
       "      <td>0.666667</td>\n",
       "      <td>0.0</td>\n",
       "      <td>0.800000</td>\n",
       "      <td>0.6</td>\n",
       "      <td>0.488889</td>\n",
       "      <td>0.613333</td>\n",
       "    </tr>\n",
       "    <tr>\n",
       "      <th>support</th>\n",
       "      <td>1.000000</td>\n",
       "      <td>1.0</td>\n",
       "      <td>3.000000</td>\n",
       "      <td>0.6</td>\n",
       "      <td>5.000000</td>\n",
       "      <td>5.000000</td>\n",
       "    </tr>\n",
       "  </tbody>\n",
       "</table>\n",
       "</div>"
      ],
      "text/plain": [
       "            class 0  class 1   class 2  accuracy  macro avg  weighted avg\n",
       "precision  0.500000      0.0  1.000000       0.6   0.500000      0.700000\n",
       "recall     1.000000      0.0  0.666667       0.6   0.555556      0.600000\n",
       "f1-score   0.666667      0.0  0.800000       0.6   0.488889      0.613333\n",
       "support    1.000000      1.0  3.000000       0.6   5.000000      5.000000"
      ]
     },
     "execution_count": 51,
     "metadata": {},
     "output_type": "execute_result"
    }
   ],
   "source": [
    "pd.DataFrame(report)"
   ]
  },
  {
   "cell_type": "code",
   "execution_count": 52,
   "id": "18104168",
   "metadata": {
    "scrolled": true
   },
   "outputs": [
    {
     "data": {
      "text/plain": [
       "{'class 0': {'precision': 0.5,\n",
       "  'recall': 1.0,\n",
       "  'f1-score': 0.6666666666666666,\n",
       "  'support': 1},\n",
       " 'class 1': {'precision': 0.0, 'recall': 0.0, 'f1-score': 0.0, 'support': 1},\n",
       " 'class 2': {'precision': 1.0,\n",
       "  'recall': 0.6666666666666666,\n",
       "  'f1-score': 0.8,\n",
       "  'support': 3},\n",
       " 'accuracy': 0.6,\n",
       " 'macro avg': {'precision': 0.5,\n",
       "  'recall': 0.5555555555555555,\n",
       "  'f1-score': 0.48888888888888893,\n",
       "  'support': 5},\n",
       " 'weighted avg': {'precision': 0.7,\n",
       "  'recall': 0.6,\n",
       "  'f1-score': 0.6133333333333334,\n",
       "  'support': 5}}"
      ]
     },
     "execution_count": 52,
     "metadata": {},
     "output_type": "execute_result"
    }
   ],
   "source": [
    "report"
   ]
  },
  {
   "cell_type": "code",
   "execution_count": 86,
   "id": "d6c08504",
   "metadata": {},
   "outputs": [
    {
     "data": {
      "text/html": [
       "<div>\n",
       "<style scoped>\n",
       "    .dataframe tbody tr th:only-of-type {\n",
       "        vertical-align: middle;\n",
       "    }\n",
       "\n",
       "    .dataframe tbody tr th {\n",
       "        vertical-align: top;\n",
       "    }\n",
       "\n",
       "    .dataframe thead th {\n",
       "        text-align: right;\n",
       "    }\n",
       "</style>\n",
       "<table border=\"1\" class=\"dataframe\">\n",
       "  <thead>\n",
       "    <tr style=\"text-align: right;\">\n",
       "      <th></th>\n",
       "      <th>Unnamed: 0</th>\n",
       "      <th>critical-1</th>\n",
       "      <th>critical-2</th>\n",
       "      <th>critical-3</th>\n",
       "      <th>critical-4</th>\n",
       "      <th>micro avg</th>\n",
       "      <th>macro avg</th>\n",
       "      <th>weighted avg</th>\n",
       "      <th>samples avg</th>\n",
       "      <th>finetuning_task</th>\n",
       "      <th>question unanswered</th>\n",
       "      <th>noisy answers</th>\n",
       "    </tr>\n",
       "  </thead>\n",
       "  <tbody>\n",
       "    <tr>\n",
       "      <th>0</th>\n",
       "      <td>precision</td>\n",
       "      <td>0.390244</td>\n",
       "      <td>0.250000</td>\n",
       "      <td>0.196429</td>\n",
       "      <td>0.152174</td>\n",
       "      <td>0.246429</td>\n",
       "      <td>0.247212</td>\n",
       "      <td>0.267302</td>\n",
       "      <td>0.246429</td>\n",
       "      <td>swiss_criticality_prediction_citation_facts</td>\n",
       "      <td>0</td>\n",
       "      <td>0</td>\n",
       "    </tr>\n",
       "    <tr>\n",
       "      <th>1</th>\n",
       "      <td>recall</td>\n",
       "      <td>0.173913</td>\n",
       "      <td>0.434211</td>\n",
       "      <td>0.251908</td>\n",
       "      <td>0.075269</td>\n",
       "      <td>0.246429</td>\n",
       "      <td>0.233825</td>\n",
       "      <td>0.246429</td>\n",
       "      <td>0.246429</td>\n",
       "      <td>swiss_criticality_prediction_citation_facts</td>\n",
       "      <td>0</td>\n",
       "      <td>0</td>\n",
       "    </tr>\n",
       "    <tr>\n",
       "      <th>2</th>\n",
       "      <td>f1-score</td>\n",
       "      <td>0.240602</td>\n",
       "      <td>0.317308</td>\n",
       "      <td>0.220736</td>\n",
       "      <td>0.100719</td>\n",
       "      <td>0.246429</td>\n",
       "      <td>0.219841</td>\n",
       "      <td>0.233544</td>\n",
       "      <td>0.246429</td>\n",
       "      <td>swiss_criticality_prediction_citation_facts</td>\n",
       "      <td>0</td>\n",
       "      <td>0</td>\n",
       "    </tr>\n",
       "    <tr>\n",
       "      <th>3</th>\n",
       "      <td>support</td>\n",
       "      <td>184.000000</td>\n",
       "      <td>152.000000</td>\n",
       "      <td>131.000000</td>\n",
       "      <td>93.000000</td>\n",
       "      <td>560.000000</td>\n",
       "      <td>560.000000</td>\n",
       "      <td>560.000000</td>\n",
       "      <td>560.000000</td>\n",
       "      <td>swiss_criticality_prediction_citation_facts</td>\n",
       "      <td>0</td>\n",
       "      <td>0</td>\n",
       "    </tr>\n",
       "  </tbody>\n",
       "</table>\n",
       "</div>"
      ],
      "text/plain": [
       "  Unnamed: 0  critical-1  critical-2  critical-3  critical-4   micro avg  \\\n",
       "0  precision    0.390244    0.250000    0.196429    0.152174    0.246429   \n",
       "1     recall    0.173913    0.434211    0.251908    0.075269    0.246429   \n",
       "2   f1-score    0.240602    0.317308    0.220736    0.100719    0.246429   \n",
       "3    support  184.000000  152.000000  131.000000   93.000000  560.000000   \n",
       "\n",
       "    macro avg  weighted avg  samples avg  \\\n",
       "0    0.247212      0.267302     0.246429   \n",
       "1    0.233825      0.246429     0.246429   \n",
       "2    0.219841      0.233544     0.246429   \n",
       "3  560.000000    560.000000   560.000000   \n",
       "\n",
       "                               finetuning_task  question unanswered  \\\n",
       "0  swiss_criticality_prediction_citation_facts                    0   \n",
       "1  swiss_criticality_prediction_citation_facts                    0   \n",
       "2  swiss_criticality_prediction_citation_facts                    0   \n",
       "3  swiss_criticality_prediction_citation_facts                    0   \n",
       "\n",
       "   noisy answers  \n",
       "0              0  \n",
       "1              0  \n",
       "2              0  \n",
       "3              0  "
      ]
     },
     "execution_count": 86,
     "metadata": {},
     "output_type": "execute_result"
    }
   ],
   "source": [
    "pd.read_excel(\"/Users/vetonmatoshi/Documents/Git/zeroshot_lexglue/reports/evaluation_report_swiss_criticality_prediction_citation_facts.xlsx\")"
   ]
  },
  {
   "cell_type": "code",
   "execution_count": 87,
   "id": "b05de29b",
   "metadata": {},
   "outputs": [
    {
     "data": {
      "text/html": [
       "<div>\n",
       "<style scoped>\n",
       "    .dataframe tbody tr th:only-of-type {\n",
       "        vertical-align: middle;\n",
       "    }\n",
       "\n",
       "    .dataframe tbody tr th {\n",
       "        vertical-align: top;\n",
       "    }\n",
       "\n",
       "    .dataframe thead th {\n",
       "        text-align: right;\n",
       "    }\n",
       "</style>\n",
       "<table border=\"1\" class=\"dataframe\">\n",
       "  <thead>\n",
       "    <tr style=\"text-align: right;\">\n",
       "      <th></th>\n",
       "      <th>input_text</th>\n",
       "      <th>language</th>\n",
       "      <th>answer</th>\n",
       "      <th>label</th>\n",
       "      <th>input</th>\n",
       "    </tr>\n",
       "  </thead>\n",
       "  <tbody>\n",
       "    <tr>\n",
       "      <th>0</th>\n",
       "      <td>Given the considerations from the following Sw...</td>\n",
       "      <td>fr</td>\n",
       "      <td>non-critical</td>\n",
       "      <td>1</td>\n",
       "      <td>Considérant en droit :\\n1.\\nLe recours en mati...</td>\n",
       "    </tr>\n",
       "    <tr>\n",
       "      <th>1</th>\n",
       "      <td>Given the considerations from the following Sw...</td>\n",
       "      <td>fr</td>\n",
       "      <td>non-critical</td>\n",
       "      <td>1</td>\n",
       "      <td>Considérant en droit :\\n1.\\nLe recours peut êt...</td>\n",
       "    </tr>\n",
       "    <tr>\n",
       "      <th>2</th>\n",
       "      <td>Given the considerations from the following Sw...</td>\n",
       "      <td>de</td>\n",
       "      <td>non-critical</td>\n",
       "      <td>1</td>\n",
       "      <td>in Erwägung,\\ndass gegen den in einer vermögen...</td>\n",
       "    </tr>\n",
       "    <tr>\n",
       "      <th>3</th>\n",
       "      <td>Given the considerations from the following Sw...</td>\n",
       "      <td>de</td>\n",
       "      <td>non-critical</td>\n",
       "      <td>1</td>\n",
       "      <td>Der Präsident zieht in Erwägung:\\n1.\\nDie Besc...</td>\n",
       "    </tr>\n",
       "    <tr>\n",
       "      <th>4</th>\n",
       "      <td>Given the considerations from the following Sw...</td>\n",
       "      <td>fr</td>\n",
       "      <td>non-critical</td>\n",
       "      <td>1</td>\n",
       "      <td>Considérant :\\nqu'invoquant les séquelles d'un...</td>\n",
       "    </tr>\n",
       "    <tr>\n",
       "      <th>...</th>\n",
       "      <td>...</td>\n",
       "      <td>...</td>\n",
       "      <td>...</td>\n",
       "      <td>...</td>\n",
       "      <td>...</td>\n",
       "    </tr>\n",
       "    <tr>\n",
       "      <th>770</th>\n",
       "      <td>Given the considerations from the following Sw...</td>\n",
       "      <td>fr</td>\n",
       "      <td>non-critical</td>\n",
       "      <td>1</td>\n",
       "      <td>Considérant en droit :\\n1.\\n1.1. Le recours en...</td>\n",
       "    </tr>\n",
       "    <tr>\n",
       "      <th>771</th>\n",
       "      <td>Given the considerations from the following Sw...</td>\n",
       "      <td>fr</td>\n",
       "      <td>non-critical</td>\n",
       "      <td>1</td>\n",
       "      <td>Considérant en droit :\\n1. 1.1 Le Tribunal féd...</td>\n",
       "    </tr>\n",
       "    <tr>\n",
       "      <th>772</th>\n",
       "      <td>Given the considerations from the following Sw...</td>\n",
       "      <td>de</td>\n",
       "      <td>non-critical</td>\n",
       "      <td>1</td>\n",
       "      <td>In Erwägung,\\ndass der Beschwerdeführer mit Ei...</td>\n",
       "    </tr>\n",
       "    <tr>\n",
       "      <th>773</th>\n",
       "      <td>Given the considerations from the following Sw...</td>\n",
       "      <td>de</td>\n",
       "      <td>non-critical</td>\n",
       "      <td>1</td>\n",
       "      <td>Erwägungen:\\n1.\\nAngefochten ist ein kantonal ...</td>\n",
       "    </tr>\n",
       "    <tr>\n",
       "      <th>774</th>\n",
       "      <td>Given the considerations from the following Sw...</td>\n",
       "      <td>de</td>\n",
       "      <td>non-critical</td>\n",
       "      <td>1</td>\n",
       "      <td>Erwägungen:\\n1.\\nDas Bundesgericht prüft seine...</td>\n",
       "    </tr>\n",
       "  </tbody>\n",
       "</table>\n",
       "<p>775 rows × 5 columns</p>\n",
       "</div>"
      ],
      "text/plain": [
       "                                            input_text language        answer  \\\n",
       "0    Given the considerations from the following Sw...       fr  non-critical   \n",
       "1    Given the considerations from the following Sw...       fr  non-critical   \n",
       "2    Given the considerations from the following Sw...       de  non-critical   \n",
       "3    Given the considerations from the following Sw...       de  non-critical   \n",
       "4    Given the considerations from the following Sw...       fr  non-critical   \n",
       "..                                                 ...      ...           ...   \n",
       "770  Given the considerations from the following Sw...       fr  non-critical   \n",
       "771  Given the considerations from the following Sw...       fr  non-critical   \n",
       "772  Given the considerations from the following Sw...       de  non-critical   \n",
       "773  Given the considerations from the following Sw...       de  non-critical   \n",
       "774  Given the considerations from the following Sw...       de  non-critical   \n",
       "\n",
       "     label                                              input  \n",
       "0        1  Considérant en droit :\\n1.\\nLe recours en mati...  \n",
       "1        1  Considérant en droit :\\n1.\\nLe recours peut êt...  \n",
       "2        1  in Erwägung,\\ndass gegen den in einer vermögen...  \n",
       "3        1  Der Präsident zieht in Erwägung:\\n1.\\nDie Besc...  \n",
       "4        1  Considérant :\\nqu'invoquant les séquelles d'un...  \n",
       "..     ...                                                ...  \n",
       "770      1  Considérant en droit :\\n1.\\n1.1. Le recours en...  \n",
       "771      1  Considérant en droit :\\n1. 1.1 Le Tribunal féd...  \n",
       "772      1  In Erwägung,\\ndass der Beschwerdeführer mit Ei...  \n",
       "773      1  Erwägungen:\\n1.\\nAngefochten ist ein kantonal ...  \n",
       "774      1  Erwägungen:\\n1.\\nDas Bundesgericht prüft seine...  \n",
       "\n",
       "[775 rows x 5 columns]"
      ]
     },
     "execution_count": 87,
     "metadata": {},
     "output_type": "execute_result"
    }
   ],
   "source": [
    "pd.read_json(\"/Users/vetonmatoshi/Documents/Git/zeroshot_lexglue/data/instruction-following-examples/swiss_criticality_prediction_bge_considerations.jsonl\", lines=True)"
   ]
  },
  {
   "cell_type": "code",
   "execution_count": 119,
   "id": "5864da47",
   "metadata": {},
   "outputs": [],
   "source": [
    "preds = pd.read_json(\"/Users/vetonmatoshi/Documents/Git/zeroshot_lexglue/data/zero-shot-predictions/swiss_criticality_prediction_bge_considerations_gpt-3.5-turbo_predictions.jsonl\", lines=True)\n",
    "preds['prediction'] = preds.prediction.apply(lambda x: str(x).lower().strip('\\.'))"
   ]
  },
  {
   "cell_type": "code",
   "execution_count": 120,
   "id": "c8c160a5",
   "metadata": {},
   "outputs": [
    {
     "data": {
      "text/html": [
       "<div>\n",
       "<style scoped>\n",
       "    .dataframe tbody tr th:only-of-type {\n",
       "        vertical-align: middle;\n",
       "    }\n",
       "\n",
       "    .dataframe tbody tr th {\n",
       "        vertical-align: top;\n",
       "    }\n",
       "\n",
       "    .dataframe thead th {\n",
       "        text-align: right;\n",
       "    }\n",
       "</style>\n",
       "<table border=\"1\" class=\"dataframe\">\n",
       "  <thead>\n",
       "    <tr style=\"text-align: right;\">\n",
       "      <th></th>\n",
       "      <th>input_text</th>\n",
       "      <th>language</th>\n",
       "      <th>prediction</th>\n",
       "    </tr>\n",
       "    <tr>\n",
       "      <th>answer</th>\n",
       "      <th></th>\n",
       "      <th></th>\n",
       "      <th></th>\n",
       "    </tr>\n",
       "  </thead>\n",
       "  <tbody>\n",
       "    <tr>\n",
       "      <th>critical</th>\n",
       "      <td>14</td>\n",
       "      <td>14</td>\n",
       "      <td>14</td>\n",
       "    </tr>\n",
       "    <tr>\n",
       "      <th>non-critical</th>\n",
       "      <td>761</td>\n",
       "      <td>761</td>\n",
       "      <td>761</td>\n",
       "    </tr>\n",
       "  </tbody>\n",
       "</table>\n",
       "</div>"
      ],
      "text/plain": [
       "              input_text  language  prediction\n",
       "answer                                        \n",
       "critical              14        14          14\n",
       "non-critical         761       761         761"
      ]
     },
     "execution_count": 120,
     "metadata": {},
     "output_type": "execute_result"
    }
   ],
   "source": [
    "preds.groupby('answer').count()"
   ]
  },
  {
   "cell_type": "code",
   "execution_count": 121,
   "id": "69c226de",
   "metadata": {},
   "outputs": [
    {
     "data": {
      "text/html": [
       "<div>\n",
       "<style scoped>\n",
       "    .dataframe tbody tr th:only-of-type {\n",
       "        vertical-align: middle;\n",
       "    }\n",
       "\n",
       "    .dataframe tbody tr th {\n",
       "        vertical-align: top;\n",
       "    }\n",
       "\n",
       "    .dataframe thead th {\n",
       "        text-align: right;\n",
       "    }\n",
       "</style>\n",
       "<table border=\"1\" class=\"dataframe\">\n",
       "  <thead>\n",
       "    <tr style=\"text-align: right;\">\n",
       "      <th></th>\n",
       "      <th>input_text</th>\n",
       "      <th>language</th>\n",
       "      <th>answer</th>\n",
       "    </tr>\n",
       "    <tr>\n",
       "      <th>prediction</th>\n",
       "      <th></th>\n",
       "      <th></th>\n",
       "      <th></th>\n",
       "    </tr>\n",
       "  </thead>\n",
       "  <tbody>\n",
       "    <tr>\n",
       "      <th>critical</th>\n",
       "      <td>272</td>\n",
       "      <td>272</td>\n",
       "      <td>272</td>\n",
       "    </tr>\n",
       "    <tr>\n",
       "      <th>non-critical</th>\n",
       "      <td>502</td>\n",
       "      <td>502</td>\n",
       "      <td>502</td>\n",
       "    </tr>\n",
       "    <tr>\n",
       "      <th>non-critical. \\n\\nthis is because the decision does not contain any particularly important or groundbreaking legal interpretations or applications, and is primarily concerned with administrative and procedural matters related to a specific case in the canton of zurich. additionally, the decision does not appear to have been widely publicized or cited in subsequent legal proceedings</th>\n",
       "      <td>1</td>\n",
       "      <td>1</td>\n",
       "      <td>1</td>\n",
       "    </tr>\n",
       "  </tbody>\n",
       "</table>\n",
       "</div>"
      ],
      "text/plain": [
       "                                                    input_text  language  \\\n",
       "prediction                                                                 \n",
       "critical                                                   272       272   \n",
       "non-critical                                               502       502   \n",
       "non-critical. \\n\\nthis is because the decision ...           1         1   \n",
       "\n",
       "                                                    answer  \n",
       "prediction                                                  \n",
       "critical                                               272  \n",
       "non-critical                                           502  \n",
       "non-critical. \\n\\nthis is because the decision ...       1  "
      ]
     },
     "execution_count": 121,
     "metadata": {},
     "output_type": "execute_result"
    }
   ],
   "source": [
    "preds.groupby('prediction').count()"
   ]
  },
  {
   "cell_type": "code",
   "execution_count": 109,
   "id": "5b1b2a20",
   "metadata": {},
   "outputs": [
    {
     "data": {
      "text/plain": [
       "'critical'"
      ]
     },
     "execution_count": 109,
     "metadata": {},
     "output_type": "execute_result"
    }
   ],
   "source": [
    "sample_list = ['non-critical','critical']\n",
    "sample_list[1]"
   ]
  },
  {
   "cell_type": "code",
   "execution_count": 110,
   "id": "1f9ef8ef",
   "metadata": {},
   "outputs": [
    {
     "data": {
      "text/plain": [
       "'non-critical'"
      ]
     },
     "execution_count": 110,
     "metadata": {},
     "output_type": "execute_result"
    }
   ],
   "source": [
    "sorted(sample_list)[1]"
   ]
  },
  {
   "cell_type": "code",
   "execution_count": null,
   "id": "92ae3ba3",
   "metadata": {},
   "outputs": [],
   "source": []
  }
 ],
 "metadata": {
  "kernelspec": {
   "display_name": "Python 3 (ipykernel)",
   "language": "python",
   "name": "python3"
  },
  "language_info": {
   "codemirror_mode": {
    "name": "ipython",
    "version": 3
   },
   "file_extension": ".py",
   "mimetype": "text/x-python",
   "name": "python",
   "nbconvert_exporter": "python",
   "pygments_lexer": "ipython3",
   "version": "3.9.15"
  }
 },
 "nbformat": 4,
 "nbformat_minor": 5
}
